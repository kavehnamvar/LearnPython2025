{
 "cells": [
  {
   "cell_type": "markdown",
   "metadata": {},
   "source": [
    "# Decorators\n",
    "\n",
    "Let's see what it is, when to use it and how to use it.\n",
    "\n",
    "## function copy\n",
    "## closures\n",
    "## decorators"
   ]
  },
  {
   "cell_type": "markdown",
   "metadata": {},
   "source": [
    "### function copy"
   ]
  },
  {
   "cell_type": "code",
   "execution_count": 1,
   "metadata": {},
   "outputs": [],
   "source": [
    "def welcome():\n",
    "    print(\"welcome to the game\")"
   ]
  },
  {
   "cell_type": "code",
   "execution_count": 2,
   "metadata": {},
   "outputs": [
    {
     "name": "stdout",
     "output_type": "stream",
     "text": [
      "welcome to the game\n"
     ]
    }
   ],
   "source": [
    "welcome()"
   ]
  },
  {
   "cell_type": "code",
   "execution_count": 3,
   "metadata": {},
   "outputs": [],
   "source": [
    "# function copy\n",
    "wel = welcome"
   ]
  },
  {
   "cell_type": "code",
   "execution_count": 4,
   "metadata": {},
   "outputs": [
    {
     "data": {
      "text/plain": [
       "<function __main__.welcome()>"
      ]
     },
     "execution_count": 4,
     "metadata": {},
     "output_type": "execute_result"
    }
   ],
   "source": [
    "wel"
   ]
  },
  {
   "cell_type": "code",
   "execution_count": 5,
   "metadata": {},
   "outputs": [
    {
     "name": "stdout",
     "output_type": "stream",
     "text": [
      "welcome to the game\n"
     ]
    }
   ],
   "source": [
    "wel()"
   ]
  },
  {
   "cell_type": "code",
   "execution_count": 6,
   "metadata": {},
   "outputs": [],
   "source": [
    "def welcome():\n",
    "    return \"welcome to the game\""
   ]
  },
  {
   "cell_type": "code",
   "execution_count": 7,
   "metadata": {},
   "outputs": [],
   "source": [
    "wel = welcome"
   ]
  },
  {
   "cell_type": "code",
   "execution_count": 8,
   "metadata": {},
   "outputs": [
    {
     "data": {
      "text/plain": [
       "<function __main__.welcome()>"
      ]
     },
     "execution_count": 8,
     "metadata": {},
     "output_type": "execute_result"
    }
   ],
   "source": [
    "wel"
   ]
  },
  {
   "cell_type": "code",
   "execution_count": 9,
   "metadata": {},
   "outputs": [
    {
     "data": {
      "text/plain": [
       "'welcome to the game'"
      ]
     },
     "execution_count": 9,
     "metadata": {},
     "output_type": "execute_result"
    }
   ],
   "source": [
    "wel()"
   ]
  },
  {
   "cell_type": "code",
   "execution_count": 10,
   "metadata": {},
   "outputs": [],
   "source": [
    "wel = welcome()\n",
    "del welcome"
   ]
  },
  {
   "cell_type": "code",
   "execution_count": 11,
   "metadata": {},
   "outputs": [
    {
     "data": {
      "text/plain": [
       "'welcome to the game'"
      ]
     },
     "execution_count": 11,
     "metadata": {},
     "output_type": "execute_result"
    }
   ],
   "source": [
    "wel"
   ]
  },
  {
   "cell_type": "code",
   "execution_count": 13,
   "metadata": {},
   "outputs": [],
   "source": [
    "# here when you copy the function to another variable, \n",
    "# and then you deleted the original function, the copied function will still work\n",
    "# because the copied function is not pointing to the original function"
   ]
  },
  {
   "cell_type": "markdown",
   "metadata": {},
   "source": [
    "### closures\n",
    "\n",
    "When we write a function inside a function, it is called as a closure function."
   ]
  },
  {
   "cell_type": "code",
   "execution_count": 14,
   "metadata": {},
   "outputs": [],
   "source": [
    "# for returning a function from another function\n",
    "def main_welcome():\n",
    "    msg = 'Hello everyone'\n",
    "    def sub_welcome_class():\n",
    "        print(\"Welcome to this class\")\n",
    "        print(msg)\n",
    "        print(\"I hope you will enjoy it\")\n",
    "    return sub_welcome_class()"
   ]
  },
  {
   "cell_type": "code",
   "execution_count": 15,
   "metadata": {},
   "outputs": [
    {
     "name": "stdout",
     "output_type": "stream",
     "text": [
      "Welcome to this class\n",
      "Hello everyone\n",
      "I hope you will enjoy it\n"
     ]
    }
   ],
   "source": [
    "main_welcome()"
   ]
  },
  {
   "cell_type": "code",
   "execution_count": 16,
   "metadata": {},
   "outputs": [],
   "source": [
    "def main_welcome(msg): # parent function\n",
    "\n",
    "    def sub_welcome_class(): # child function or sub function\n",
    "        print(\"Welcome to this class\")\n",
    "        print(msg)\n",
    "        print(\"I hope you will enjoy it\")\n",
    "    return sub_welcome_class()"
   ]
  },
  {
   "cell_type": "code",
   "execution_count": 17,
   "metadata": {},
   "outputs": [
    {
     "name": "stdout",
     "output_type": "stream",
     "text": [
      "Welcome to this class\n",
      "Kaveh\n",
      "I hope you will enjoy it\n"
     ]
    }
   ],
   "source": [
    "main_welcome('Kaveh')"
   ]
  },
  {
   "cell_type": "markdown",
   "metadata": {},
   "source": [
    "Whatever variable in the parent function will be accessible  inside the subfunction.\n",
    "This is what needs to be understood about closures."
   ]
  },
  {
   "cell_type": "code",
   "execution_count": 18,
   "metadata": {},
   "outputs": [],
   "source": [
    "# Closures & initial Decorator\n",
    "# instead of calling the variable like msg, we pass function as a parameter\n",
    "# using inbuilt function\n",
    "def main_welcome(func): # parent function\n",
    "\n",
    "    def sub_welcome_class(): # child function or sub function\n",
    "        print(\"Welcome to this class\")\n",
    "        func(\"This class is about python\")\n",
    "        print(\"I hope you will enjoy it\")\n",
    "    return sub_welcome_class()"
   ]
  },
  {
   "cell_type": "code",
   "execution_count": 19,
   "metadata": {},
   "outputs": [
    {
     "name": "stdout",
     "output_type": "stream",
     "text": [
      "Welcome to this class\n",
      "This class is about python\n",
      "I hope you will enjoy it\n"
     ]
    }
   ],
   "source": [
    "main_welcome(print)"
   ]
  },
  {
   "cell_type": "markdown",
   "metadata": {},
   "source": [
    "In decorators we say that inside a function we can give a parameter as a function instead of a specific variable."
   ]
  },
  {
   "cell_type": "code",
   "execution_count": 20,
   "metadata": {},
   "outputs": [],
   "source": [
    "def main_welcome(func): # parent function\n",
    "\n",
    "    def sub_welcome_class(): # child function or sub function\n",
    "        print(\"Welcome to this class\")\n",
    "        print(func([1,2,3,4,5]))\n",
    "        print(\"I hope you will enjoy it\")\n",
    "    return sub_welcome_class()"
   ]
  },
  {
   "cell_type": "code",
   "execution_count": 21,
   "metadata": {},
   "outputs": [
    {
     "name": "stdout",
     "output_type": "stream",
     "text": [
      "Welcome to this class\n",
      "5\n",
      "I hope you will enjoy it\n"
     ]
    }
   ],
   "source": [
    "main_welcome(len)"
   ]
  },
  {
   "cell_type": "code",
   "execution_count": 22,
   "metadata": {},
   "outputs": [],
   "source": [
    "# can i create my own function and pass it to the main_welcome function as a parameter\n",
    "# this is called decorator\n",
    "def main_welcome(func): \n",
    "\n",
    "    def sub_welcome_class(): \n",
    "        print(\"Welcome to this class\")\n",
    "        func()\n",
    "        print(\"I hope you will enjoy it\")\n",
    "    return sub_welcome_class()\n",
    "def class_name():\n",
    "    print(\"This class is about python\")"
   ]
  },
  {
   "cell_type": "code",
   "execution_count": 23,
   "metadata": {},
   "outputs": [
    {
     "name": "stdout",
     "output_type": "stream",
     "text": [
      "Welcome to this class\n",
      "This class is about python\n",
      "I hope you will enjoy it\n"
     ]
    }
   ],
   "source": [
    "# calling the main_welcome function and passing the class_name function as a parameter\n",
    "main_welcome(class_name)"
   ]
  },
  {
   "cell_type": "code",
   "execution_count": 24,
   "metadata": {},
   "outputs": [
    {
     "name": "stdout",
     "output_type": "stream",
     "text": [
      "Welcome to this class\n",
      "This class is about python\n",
      "I hope you will enjoy it\n"
     ]
    }
   ],
   "source": [
    "# calling @main_welcome as a decorator on top of a function\n",
    "def main_welcome(func): \n",
    "\n",
    "    def sub_welcome_class(): \n",
    "        print(\"Welcome to this class\")\n",
    "        func()\n",
    "        print(\"I hope you will enjoy it\")\n",
    "    return sub_welcome_class()\n",
    "@main_welcome # this is a decorator calling the decorator function main_welcome\n",
    "def class_name(): #predefined function\n",
    "    print(\"This class is about python\")"
   ]
  },
  {
   "cell_type": "markdown",
   "metadata": {},
   "source": [
    "Suppose you have the class_name function, and this functions needs to be called as a common function in most of the functions. Suppose this is like a database connection. By just using the decorator, whatever the basic information are there in the parent function. the subfunction is going to get used everywhere. At that time you can just call the class_name function and use it over there.\n",
    "\n",
    "In flask and zango we use decorator and this is how you manually create a decorator. "
   ]
  }
 ],
 "metadata": {
  "kernelspec": {
   "display_name": "base",
   "language": "python",
   "name": "python3"
  },
  "language_info": {
   "codemirror_mode": {
    "name": "ipython",
    "version": 3
   },
   "file_extension": ".py",
   "mimetype": "text/x-python",
   "name": "python",
   "nbconvert_exporter": "python",
   "pygments_lexer": "ipython3",
   "version": "3.11.7"
  }
 },
 "nbformat": 4,
 "nbformat_minor": 2
}
