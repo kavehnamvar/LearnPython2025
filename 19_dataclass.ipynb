{
 "cells": [
  {
   "cell_type": "markdown",
   "metadata": {},
   "source": [
    "# Python Data Class\n",
    "\n",
    "In python, the dataclass decorator is a feature introduced in python 3.7 that provides a concise way to define classes primarily introduced to store data. It automatically generates several special methods, such as **init**, **repr**, and **eq**, based on the class attributes you define. This simplifies the process of creating and working with data-focused classes."
   ]
  },
  {
   "cell_type": "code",
   "execution_count": 1,
   "metadata": {},
   "outputs": [
    {
     "name": "stdout",
     "output_type": "stream",
     "text": [
      "John\n"
     ]
    }
   ],
   "source": [
    "class Person:\n",
    "    def __init__(self, name,age):\n",
    "        self.name = name\n",
    "        self.age = age\n",
    "\n",
    "person1 = Person(\"John\", 36)\n",
    "print(person1.name)"
   ]
  },
  {
   "cell_type": "markdown",
   "metadata": {},
   "source": [
    "This was how we created classes. Now, with the help of dataclasses we don't even need to write this code."
   ]
  },
  {
   "cell_type": "code",
   "execution_count": 2,
   "metadata": {},
   "outputs": [
    {
     "name": "stdout",
     "output_type": "stream",
     "text": [
      "Person(name='Kaveh', age=39, profession='AI')\n"
     ]
    }
   ],
   "source": [
    "# for using dataclasses you need to import dataclass\n",
    "from dataclasses import dataclass\n",
    "\n",
    "@dataclass # this is a decorator\n",
    "class Person:\n",
    "    name: str\n",
    "    age: int\n",
    "    profession: str\n",
    "    # the init method is automatically created\n",
    "person2 = Person(\"Kaveh\", 39, \"AI\")\n",
    "print(person2)"
   ]
  },
  {
   "cell_type": "markdown",
   "metadata": {},
   "source": [
    "This is the same class, as soon as we use this dataclass decorator, the @dataclass decorator automatically generates the following methods for you:\n",
    "1. init(): Initializes the object and assigns the provided values to the attributes.\n",
    "2. repr(): Provides a string representation of the object.\n",
    "3. eq(): Implements equality comparison between two objects of the class based on their attributes"
   ]
  },
  {
   "cell_type": "code",
   "execution_count": 3,
   "metadata": {},
   "outputs": [
    {
     "name": "stdout",
     "output_type": "stream",
     "text": [
      "Person(name='Kaveh', age=39, profession='Engineer')\n"
     ]
    }
   ],
   "source": [
    "# another example\n",
    "@dataclass\n",
    "class Person:\n",
    "    name: str\n",
    "    age: int\n",
    "    profession: str = \"Engineer\" # default value\n",
    "\n",
    "person3 = Person(\"Kaveh\", 39)\n",
    "print(person3)"
   ]
  },
  {
   "cell_type": "code",
   "execution_count": 4,
   "metadata": {},
   "outputs": [
    {
     "name": "stdout",
     "output_type": "stream",
     "text": [
      "Point(x=4, y=5)\n"
     ]
    }
   ],
   "source": [
    "# another example\n",
    "@dataclass\n",
    "class Point:\n",
    "    x: int\n",
    "    y: int\n",
    "    \n",
    "point1 = Point(4,5)\n",
    "print(point1)"
   ]
  },
  {
   "cell_type": "code",
   "execution_count": 5,
   "metadata": {},
   "outputs": [
    {
     "name": "stdout",
     "output_type": "stream",
     "text": [
      "Point(x=10, y=5)\n"
     ]
    }
   ],
   "source": [
    "point1.x = 10\n",
    "print(point1)\n",
    "# we have overriden the x coordinate"
   ]
  },
  {
   "cell_type": "code",
   "execution_count": 6,
   "metadata": {},
   "outputs": [
    {
     "name": "stdout",
     "output_type": "stream",
     "text": [
      "Point(x=3, y=7)\n"
     ]
    }
   ],
   "source": [
    "# immutable dataclass\n",
    "@dataclass(frozen=True)\n",
    "class Point:\n",
    "    x: int\n",
    "    y: int\n",
    "    \n",
    "point2 = Point(3,7)\n",
    "print(point2)"
   ]
  },
  {
   "cell_type": "code",
   "execution_count": 7,
   "metadata": {},
   "outputs": [],
   "source": [
    "# point2.x=4\n",
    "# running the above line will raise an error\n",
    "# because the dataclass is frozen\n",
    "# so you can't change the values of the attributes\n",
    "# Error: FrozenInstanceError: cannot assign to field 'x'"
   ]
  },
  {
   "cell_type": "code",
   "execution_count": 8,
   "metadata": {},
   "outputs": [
    {
     "name": "stdout",
     "output_type": "stream",
     "text": [
      "Employee(name='Kaveh', age=39, employee_id=2806, department='AI')\n"
     ]
    }
   ],
   "source": [
    "# inheritance\n",
    "\n",
    "@dataclass\n",
    "class Person:\n",
    "    name: str\n",
    "    age: int\n",
    "\n",
    "@dataclass\n",
    "class Employee(Person): #inheriting from Person\n",
    "    employee_id: int\n",
    "    department: str\n",
    "    \n",
    "person4 = Person(\"Kaveh\", 39)\n",
    "employee1 = Employee(\"Kaveh\",39,2806,\"AI\")\n",
    "print(employee1)"
   ]
  },
  {
   "cell_type": "code",
   "execution_count": 9,
   "metadata": {},
   "outputs": [
    {
     "name": "stdout",
     "output_type": "stream",
     "text": [
      "Person(name='Kaveh', age=39, address=Address(street='123 Main St', city='New York', state='NY', zip='10001'))\n"
     ]
    }
   ],
   "source": [
    "# nested dataclass\n",
    "\n",
    "@dataclass\n",
    "class Address:\n",
    "    street: str\n",
    "    city: str\n",
    "    state: str\n",
    "    zip: str\n",
    "    \n",
    "@dataclass\n",
    "class Person:\n",
    "    name: str\n",
    "    age: int\n",
    "    address: Address # nested dataclass, adress is a nested dataclass\n",
    "\n",
    "address5 = Address(\"123 Main St\", \"New York\", \"NY\", \"10001\")\n",
    "person5 = Person(\"Kaveh\", 39, address5)\n",
    "print(person5)"
   ]
  },
  {
   "cell_type": "code",
   "execution_count": 10,
   "metadata": {},
   "outputs": [
    {
     "data": {
      "text/plain": [
       "'123 Main St'"
      ]
     },
     "execution_count": 10,
     "metadata": {},
     "output_type": "execute_result"
    }
   ],
   "source": [
    "person5.address.street"
   ]
  }
 ],
 "metadata": {
  "kernelspec": {
   "display_name": "base",
   "language": "python",
   "name": "python3"
  },
  "language_info": {
   "codemirror_mode": {
    "name": "ipython",
    "version": 3
   },
   "file_extension": ".py",
   "mimetype": "text/x-python",
   "name": "python",
   "nbconvert_exporter": "python",
   "pygments_lexer": "ipython3",
   "version": "3.11.7"
  }
 },
 "nbformat": 4,
 "nbformat_minor": 2
}
