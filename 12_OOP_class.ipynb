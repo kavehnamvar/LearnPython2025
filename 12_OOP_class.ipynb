{
 "cells": [
  {
   "cell_type": "markdown",
   "metadata": {},
   "source": [
    "A class is a blueprint for creating objects. It defines the structure and behavior of objects by encapsulating attributes (data/variables) and methods (functions) that operate on that data.\n",
    "\n",
    "example of the basic structure of a class:\n"
   ]
  },
  {
   "cell_type": "code",
   "execution_count": 1,
   "metadata": {},
   "outputs": [
    {
     "name": "stdout",
     "output_type": "stream",
     "text": [
      "2022 Toyota Corolla\n"
     ]
    }
   ],
   "source": [
    "class Car:\n",
    "    def __init__(self, brand, model, year):\n",
    "        self.brand = brand  # Attribute\n",
    "        self.model = model\n",
    "        self.year = year\n",
    "\n",
    "    def display_info(self):  # Method\n",
    "        return f\"{self.year} {self.brand} {self.model}\"\n",
    "\n",
    "#### Creating an object (Instance of the class)\n",
    "car1 = Car(\"Toyota\", \"Corolla\", 2022)\n",
    "print(car1.display_info())  # Output: 2022 Toyota Corolla"
   ]
  },
  {
   "cell_type": "markdown",
   "metadata": {},
   "source": [
    "## key concepts in classes:\n",
    "\n",
    "1. _ _init__ (**Constructor**): Initializes the object's attributes when an instance is created.\n",
    "2. **Attributes** (self.brand, self.model) store data unique to each object.\n",
    "3. **Methods** (display_info) define behavior.\n",
    "4. **Objects** (car1) are instances of a class."
   ]
  },
  {
   "cell_type": "markdown",
   "metadata": {},
   "source": [
    "## Use Cases of Classes\n",
    "\n",
    "1. **Encapsulation**: Bundling data and methods together (e.g., User profiles, Bank accounts).\n",
    "2. **Code Reusability**: Once a class is defined, multiple objects can be created without rewriting code.\n",
    "3. **Abstraction**: Hiding complex implementation details while exposing only necessary functionality.\n",
    "4. **Inheritance**: Creating a new class from an existing one (e.g., ElectricCar inheriting from Car).\n",
    "5. **Polymorphism**: Methods in different classes having the same name but different behaviors."
   ]
  },
  {
   "cell_type": "markdown",
   "metadata": {},
   "source": [
    "### Encapsulation\n",
    "\n",
    "Encapsulation is the concept of hiding the internal details of an object and restricting direct access to its attributes. This prevents unintended modifications and ensures controlled data manipulation."
   ]
  },
  {
   "cell_type": "code",
   "execution_count": 2,
   "metadata": {},
   "outputs": [
    {
     "name": "stdout",
     "output_type": "stream",
     "text": [
      "Deposited $500. New balance: $1500\n",
      "Withdrawn $200. Remaining balance: $1300\n",
      "Current balance: $1300\n"
     ]
    }
   ],
   "source": [
    "class BankAccount:\n",
    "    def __init__(self, account_holder, balance):\n",
    "        self.account_holder = account_holder\n",
    "        self.__balance = balance  # Private attribute (can't be accessed directly)\n",
    "\n",
    "    def deposit(self, amount):\n",
    "        if amount > 0:\n",
    "            self.__balance += amount\n",
    "            return f\"Deposited ${amount}. New balance: ${self.__balance}\"\n",
    "        return \"Invalid deposit amount\"\n",
    "\n",
    "    def withdraw(self, amount):\n",
    "        if 0 < amount <= self.__balance:\n",
    "            self.__balance -= amount\n",
    "            return f\"Withdrawn ${amount}. Remaining balance: ${self.__balance}\"\n",
    "        return \"Insufficient funds or invalid amount\"\n",
    "\n",
    "    def get_balance(self):  # Public method to access private attribute\n",
    "        return f\"Current balance: ${self.__balance}\"\n",
    "\n",
    "# Creating an account\n",
    "account = BankAccount(\"John Doe\", 1000)\n",
    "\n",
    "# Depositing money\n",
    "print(account.deposit(500))  # Output: Deposited $500. New balance: $1500\n",
    "\n",
    "# Withdrawing money\n",
    "print(account.withdraw(200))  # Output: Withdrawn $200. Remaining balance: $1300\n",
    "\n",
    "# Accessing balance through method\n",
    "print(account.get_balance())  # Output: Current balance: $1300\n",
    "\n",
    "# Trying to access private attribute directly (will fail)\n",
    "# print(account.__balance)  # AttributeError: 'BankAccount' object has no attribute '__balance'\n"
   ]
  },
  {
   "cell_type": "markdown",
   "metadata": {},
   "source": [
    "**Why Use Encapsulation?**\n",
    "1. **Prevents direct modification** of sensitive data (__balance is private).\n",
    "2. **Encapsulates behavior** (deposit/withdraw) to ensure valid operations.\n",
    "3. **Provides controlled access** through methods like get_balance()."
   ]
  },
  {
   "cell_type": "markdown",
   "metadata": {},
   "source": [
    "### Code Reusability\n",
    "\n",
    "Code reusability means writing code once and using it multiple times without rewriting it. Classes, functions, and inheritance help achieve this."
   ]
  },
  {
   "cell_type": "code",
   "execution_count": 3,
   "metadata": {},
   "outputs": [
    {
     "name": "stdout",
     "output_type": "stream",
     "text": [
      "Employee: Alice, Salary: $60000, Benefits: Health Insurance\n",
      "Employee: Bob, Salary: $20000, Hours Worked: 20\n"
     ]
    }
   ],
   "source": [
    "# Parent class\n",
    "class Employee:\n",
    "    def __init__(self, name, salary):\n",
    "        self.name = name\n",
    "        self.salary = salary\n",
    "\n",
    "    def get_details(self):\n",
    "        return f\"Employee: {self.name}, Salary: ${self.salary}\"\n",
    "\n",
    "# Child class for full-time employees\n",
    "class FullTimeEmployee(Employee):\n",
    "    def __init__(self, name, salary, benefits):\n",
    "        super().__init__(name, salary)\n",
    "        self.benefits = benefits\n",
    "\n",
    "    def get_details(self):  # Overriding method\n",
    "        return f\"{super().get_details()}, Benefits: {self.benefits}\"\n",
    "\n",
    "# Child class for part-time employees\n",
    "class PartTimeEmployee(Employee):\n",
    "    def __init__(self, name, salary, hours_worked):\n",
    "        super().__init__(name, salary)\n",
    "        self.hours_worked = hours_worked\n",
    "\n",
    "    def get_details(self):  # Overriding method\n",
    "        return f\"{super().get_details()}, Hours Worked: {self.hours_worked}\"\n",
    "\n",
    "# Reusing the Employee class for different employee types\n",
    "emp1 = FullTimeEmployee(\"Alice\", 60000, \"Health Insurance\")\n",
    "emp2 = PartTimeEmployee(\"Bob\", 20000, 20)\n",
    "\n",
    "print(emp1.get_details())  # Output: Employee: Alice, Salary: $60000, Benefits: Health Insurance\n",
    "print(emp2.get_details())  # Output: Employee: Bob, Salary: $20000, Hours Worked: 20\n"
   ]
  },
  {
   "cell_type": "markdown",
   "metadata": {},
   "source": [
    "**Why is this Code Reusable?**\n",
    "1. **Inheritance**: Avoids rewriting name and salary logic for each employee type.\n",
    "2. **Method Overriding**: Allows customization (get_details()) while keeping common functionality.\n",
    "3. **Flexible Expansion**: New employee types (e.g., ContractEmployee) can be added without modifying existing classes."
   ]
  },
  {
   "cell_type": "markdown",
   "metadata": {},
   "source": [
    "### Abstraction\n",
    "\n",
    "**Abstraction** is a concept in OOP that hides implementation details and only exposes essential functionalities. It helps in designing a cleaner and more modular code structure."
   ]
  },
  {
   "cell_type": "code",
   "execution_count": 4,
   "metadata": {},
   "outputs": [
    {
     "name": "stdout",
     "output_type": "stream",
     "text": [
      "Processing credit card payment of $100\n",
      "Processing PayPal payment of $50\n"
     ]
    }
   ],
   "source": [
    "from abc import ABC, abstractmethod\n",
    "\n",
    "# Abstract class\n",
    "class Payment(ABC):\n",
    "    @abstractmethod\n",
    "    def process_payment(self, amount):\n",
    "        \"\"\"Abstract method that must be implemented in child classes\"\"\"\n",
    "        pass\n",
    "\n",
    "# Concrete class for Credit Card Payment\n",
    "class CreditCardPayment(Payment):\n",
    "    def process_payment(self, amount):\n",
    "        return f\"Processing credit card payment of ${amount}\"\n",
    "\n",
    "# Concrete class for PayPal Payment\n",
    "class PayPalPayment(Payment):\n",
    "    def process_payment(self, amount):\n",
    "        return f\"Processing PayPal payment of ${amount}\"\n",
    "\n",
    "# Using abstraction\n",
    "payment1 = CreditCardPayment()\n",
    "payment2 = PayPalPayment()\n",
    "\n",
    "print(payment1.process_payment(100))  # Output: Processing credit card payment of $100\n",
    "print(payment2.process_payment(50))   # Output: Processing PayPal payment of $50\n"
   ]
  },
  {
   "cell_type": "markdown",
   "metadata": {},
   "source": [
    "**Why Use Abstraction?**\n",
    "1. **Forces subclasses to implement specific methods** (process_payment()).\n",
    "2. **Hides implementation details**, providing a clear interface.\n",
    "3. **Ensures consistency** across multiple payment methods."
   ]
  },
  {
   "cell_type": "markdown",
   "metadata": {},
   "source": [
    "### Inheritance\n",
    "\n",
    "Inheritance allows a new class (child) to inherit attributes and methods from an existing class (parent). This avoids code duplication and promotes reusability."
   ]
  },
  {
   "cell_type": "code",
   "execution_count": 5,
   "metadata": {},
   "outputs": [
    {
     "name": "stdout",
     "output_type": "stream",
     "text": [
      "2022 Toyota Corolla\n",
      "2023 Tesla Model 3 with a 75 kWh battery\n"
     ]
    }
   ],
   "source": [
    "# Parent Class\n",
    "class Car:\n",
    "    def __init__(self, brand, model, year):\n",
    "        self.brand = brand\n",
    "        self.model = model\n",
    "        self.year = year\n",
    "\n",
    "    def display_info(self):\n",
    "        return f\"{self.year} {self.brand} {self.model}\"\n",
    "\n",
    "# Child Class inheriting from Car\n",
    "class ElectricCar(Car):\n",
    "    def __init__(self, brand, model, year, battery_size):\n",
    "        super().__init__(brand, model, year)  # Inherit attributes from parent class\n",
    "        self.battery_size = battery_size  # New attribute\n",
    "\n",
    "    def display_info(self):  # Overriding method\n",
    "        return f\"{self.year} {self.brand} {self.model} with a {self.battery_size} kWh battery\"\n",
    "\n",
    "# Creating objects\n",
    "car1 = Car(\"Toyota\", \"Corolla\", 2022)\n",
    "ev1 = ElectricCar(\"Tesla\", \"Model 3\", 2023, 75)\n",
    "\n",
    "print(car1.display_info())  # Output: 2022 Toyota Corolla\n",
    "print(ev1.display_info())   # Output: 2023 Tesla Model 3 with a 75 kWh battery\n"
   ]
  },
  {
   "cell_type": "markdown",
   "metadata": {},
   "source": [
    "Why this?\n",
    "1. **Code Reusability**: ElectricCar reuses Car's attributes and methods.\n",
    "2. **Extensibility**: We can add new features (battery_size) without modifying the Car class.\n",
    "3. **Method Overriding**: display_info() is customized in ElectricCar."
   ]
  },
  {
   "cell_type": "markdown",
   "metadata": {},
   "source": [
    "### Polymorphism\n",
    "\n",
    "Polymorphism allows different classes to have methods with the same name but different implementations. This makes code more flexible and reusable."
   ]
  },
  {
   "cell_type": "code",
   "execution_count": 6,
   "metadata": {},
   "outputs": [
    {
     "name": "stdout",
     "output_type": "stream",
     "text": [
      "Woof! Woof!\n",
      "Meow! Meow!\n",
      "Animal makes a sound\n"
     ]
    }
   ],
   "source": [
    "# Example 1: Method Overriding in Polymorphism\n",
    "\n",
    "class Animal:\n",
    "    def speak(self):\n",
    "        return \"Animal makes a sound\"\n",
    "\n",
    "class Dog(Animal):\n",
    "    def speak(self):  # Overriding the parent method\n",
    "        return \"Woof! Woof!\"\n",
    "\n",
    "class Cat(Animal):\n",
    "    def speak(self):  # Overriding the parent method\n",
    "        return \"Meow! Meow!\"\n",
    "\n",
    "# Using polymorphism\n",
    "animals = [Dog(), Cat(), Animal()]\n",
    "for animal in animals:\n",
    "    print(animal.speak())  \n",
    "# Output:\n",
    "# Woof! Woof!\n",
    "# Meow! Meow!\n",
    "# Animal makes a sound\n"
   ]
  },
  {
   "cell_type": "markdown",
   "metadata": {},
   "source": [
    "Here, each class has a speak() method, but the behavior changes based on the object type.\n"
   ]
  },
  {
   "cell_type": "code",
   "execution_count": 7,
   "metadata": {},
   "outputs": [
    {
     "name": "stdout",
     "output_type": "stream",
     "text": [
      "Car is driving\n",
      "Boat is sailing\n",
      "Airplane is flying\n"
     ]
    }
   ],
   "source": [
    "# Example 2: Duck Typing (Dynamic Polymorphism)\n",
    "# In Python, if an object behaves like a certain type, \n",
    "# it's treated as that type (even if it's from a different class).\n",
    "\n",
    "class Car:\n",
    "    def move(self):\n",
    "        return \"Car is driving\"\n",
    "\n",
    "class Boat:\n",
    "    def move(self):\n",
    "        return \"Boat is sailing\"\n",
    "\n",
    "class Airplane:\n",
    "    def move(self):\n",
    "        return \"Airplane is flying\"\n",
    "\n",
    "# Using polymorphism\n",
    "vehicles = [Car(), Boat(), Airplane()]\n",
    "for vehicle in vehicles:\n",
    "    print(vehicle.move())  \n",
    "# Output:\n",
    "# Car is driving\n",
    "# Boat is sailing\n",
    "# Airplane is flying\n"
   ]
  },
  {
   "cell_type": "markdown",
   "metadata": {},
   "source": [
    "Here, all objects have a move() method, but they behave differently based on their class.\n",
    "\n",
    "**Why Use Polymorphism?**\n",
    "1. **Flexible Code**: Works with different object types in the same way.\n",
    "2. **Improves Readability**: A single interface (speak(), move()) works across different classes.\n",
    "3. **Encourages Reusability**: You don’t need to write separate logic for each object type.\n"
   ]
  },
  {
   "cell_type": "markdown",
   "metadata": {},
   "source": [
    "### From Krish Nail course\n",
    "# What is class\n",
    "\n",
    "class is like a real world object, like a car which have some attributes, properties and functions. In a car, you have different attributes such as doors, windows, motor, etc. We have also different functions in a car like driving, in driving you have different speeds. "
   ]
  },
  {
   "cell_type": "code",
   "execution_count": null,
   "metadata": {},
   "outputs": [],
   "source": []
  }
 ],
 "metadata": {
  "kernelspec": {
   "display_name": "base",
   "language": "python",
   "name": "python3"
  },
  "language_info": {
   "codemirror_mode": {
    "name": "ipython",
    "version": 3
   },
   "file_extension": ".py",
   "mimetype": "text/x-python",
   "name": "python",
   "nbconvert_exporter": "python",
   "pygments_lexer": "ipython3",
   "version": "3.11.7"
  }
 },
 "nbformat": 4,
 "nbformat_minor": 2
}
