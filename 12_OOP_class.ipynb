{
 "cells": [
  {
   "cell_type": "markdown",
   "metadata": {},
   "source": [
    "A class is a blueprint for creating objects. It defines the structure and behavior of objects by encapsulating attributes (data/variables) and methods (functions) that operate on that data.\n",
    "\n",
    "example of the basic structure of a class:\n"
   ]
  },
  {
   "cell_type": "code",
   "execution_count": 1,
   "metadata": {},
   "outputs": [
    {
     "name": "stdout",
     "output_type": "stream",
     "text": [
      "2022 Toyota Corolla\n"
     ]
    }
   ],
   "source": [
    "class Car:\n",
    "    def __init__(self, brand, model, year):\n",
    "        self.brand = brand  # Attribute\n",
    "        self.model = model\n",
    "        self.year = year\n",
    "\n",
    "    def display_info(self):  # Method\n",
    "        return f\"{self.year} {self.brand} {self.model}\"\n",
    "\n",
    "#### Creating an object (Instance of the class)\n",
    "car1 = Car(\"Toyota\", \"Corolla\", 2022)\n",
    "print(car1.display_info())  # Output: 2022 Toyota Corolla"
   ]
  },
  {
   "cell_type": "markdown",
   "metadata": {},
   "source": [
    "## key concepts in classes:\n",
    "\n",
    "1. _ _init__ (**Constructor**): Initializes the object's attributes when an instance is created.\n",
    "2. **Attributes** (self.brand, self.model) store data unique to each object.\n",
    "3. **Methods** (display_info) define behavior.\n",
    "4. **Objects** (car1) are instances of a class."
   ]
  },
  {
   "cell_type": "markdown",
   "metadata": {},
   "source": [
    "## Use Cases of Classes\n",
    "\n",
    "1. **Encapsulation**: Bundling data and methods together (e.g., User profiles, Bank accounts).\n",
    "2. **Code Reusability**: Once a class is defined, multiple objects can be created without rewriting code.\n",
    "3. **Abstraction**: Hiding complex implementation details while exposing only necessary functionality.\n",
    "4. **Inheritance**: Creating a new class from an existing one (e.g., ElectricCar inheriting from Car).\n",
    "5. **Polymorphism**: Methods in different classes having the same name but different behaviors."
   ]
  },
  {
   "cell_type": "markdown",
   "metadata": {},
   "source": [
    "### Encapsulation\n",
    "\n",
    "Encapsulation is the concept of hiding the internal details of an object and restricting direct access to its attributes. This prevents unintended modifications and ensures controlled data manipulation."
   ]
  },
  {
   "cell_type": "code",
   "execution_count": 2,
   "metadata": {},
   "outputs": [
    {
     "name": "stdout",
     "output_type": "stream",
     "text": [
      "Deposited $500. New balance: $1500\n",
      "Withdrawn $200. Remaining balance: $1300\n",
      "Current balance: $1300\n"
     ]
    }
   ],
   "source": [
    "class BankAccount:\n",
    "    def __init__(self, account_holder, balance):\n",
    "        self.account_holder = account_holder\n",
    "        self.__balance = balance  # Private attribute (can't be accessed directly)\n",
    "\n",
    "    def deposit(self, amount):\n",
    "        if amount > 0:\n",
    "            self.__balance += amount\n",
    "            return f\"Deposited ${amount}. New balance: ${self.__balance}\"\n",
    "        return \"Invalid deposit amount\"\n",
    "\n",
    "    def withdraw(self, amount):\n",
    "        if 0 < amount <= self.__balance:\n",
    "            self.__balance -= amount\n",
    "            return f\"Withdrawn ${amount}. Remaining balance: ${self.__balance}\"\n",
    "        return \"Insufficient funds or invalid amount\"\n",
    "\n",
    "    def get_balance(self):  # Public method to access private attribute\n",
    "        return f\"Current balance: ${self.__balance}\"\n",
    "\n",
    "# Creating an account\n",
    "account = BankAccount(\"John Doe\", 1000)\n",
    "\n",
    "# Depositing money\n",
    "print(account.deposit(500))  # Output: Deposited $500. New balance: $1500\n",
    "\n",
    "# Withdrawing money\n",
    "print(account.withdraw(200))  # Output: Withdrawn $200. Remaining balance: $1300\n",
    "\n",
    "# Accessing balance through method\n",
    "print(account.get_balance())  # Output: Current balance: $1300\n",
    "\n",
    "# Trying to access private attribute directly (will fail)\n",
    "# print(account.__balance)  # AttributeError: 'BankAccount' object has no attribute '__balance'\n"
   ]
  },
  {
   "cell_type": "markdown",
   "metadata": {},
   "source": [
    "**Why Use Encapsulation?**\n",
    "1. **Prevents direct modification** of sensitive data (__balance is private).\n",
    "2. **Encapsulates behavior** (deposit/withdraw) to ensure valid operations.\n",
    "3. **Provides controlled access** through methods like get_balance()."
   ]
  },
  {
   "cell_type": "markdown",
   "metadata": {},
   "source": [
    "### Code Reusability\n",
    "\n",
    "Code reusability means writing code once and using it multiple times without rewriting it. Classes, functions, and inheritance help achieve this."
   ]
  },
  {
   "cell_type": "code",
   "execution_count": 3,
   "metadata": {},
   "outputs": [
    {
     "name": "stdout",
     "output_type": "stream",
     "text": [
      "Employee: Alice, Salary: $60000, Benefits: Health Insurance\n",
      "Employee: Bob, Salary: $20000, Hours Worked: 20\n"
     ]
    }
   ],
   "source": [
    "# Parent class\n",
    "class Employee:\n",
    "    def __init__(self, name, salary):\n",
    "        self.name = name\n",
    "        self.salary = salary\n",
    "\n",
    "    def get_details(self):\n",
    "        return f\"Employee: {self.name}, Salary: ${self.salary}\"\n",
    "\n",
    "# Child class for full-time employees\n",
    "class FullTimeEmployee(Employee):\n",
    "    def __init__(self, name, salary, benefits):\n",
    "        super().__init__(name, salary)\n",
    "        self.benefits = benefits\n",
    "\n",
    "    def get_details(self):  # Overriding method\n",
    "        return f\"{super().get_details()}, Benefits: {self.benefits}\"\n",
    "\n",
    "# Child class for part-time employees\n",
    "class PartTimeEmployee(Employee):\n",
    "    def __init__(self, name, salary, hours_worked):\n",
    "        super().__init__(name, salary)\n",
    "        self.hours_worked = hours_worked\n",
    "\n",
    "    def get_details(self):  # Overriding method\n",
    "        return f\"{super().get_details()}, Hours Worked: {self.hours_worked}\"\n",
    "\n",
    "# Reusing the Employee class for different employee types\n",
    "emp1 = FullTimeEmployee(\"Alice\", 60000, \"Health Insurance\")\n",
    "emp2 = PartTimeEmployee(\"Bob\", 20000, 20)\n",
    "\n",
    "print(emp1.get_details())  # Output: Employee: Alice, Salary: $60000, Benefits: Health Insurance\n",
    "print(emp2.get_details())  # Output: Employee: Bob, Salary: $20000, Hours Worked: 20\n"
   ]
  },
  {
   "cell_type": "markdown",
   "metadata": {},
   "source": [
    "**Why is this Code Reusable?**\n",
    "1. **Inheritance**: Avoids rewriting name and salary logic for each employee type.\n",
    "2. **Method Overriding**: Allows customization (get_details()) while keeping common functionality.\n",
    "3. **Flexible Expansion**: New employee types (e.g., ContractEmployee) can be added without modifying existing classes."
   ]
  },
  {
   "cell_type": "markdown",
   "metadata": {},
   "source": [
    "### Abstraction\n",
    "\n",
    "**Abstraction** is a concept in OOP that hides implementation details and only exposes essential functionalities. It helps in designing a cleaner and more modular code structure."
   ]
  },
  {
   "cell_type": "code",
   "execution_count": 4,
   "metadata": {},
   "outputs": [
    {
     "name": "stdout",
     "output_type": "stream",
     "text": [
      "Processing credit card payment of $100\n",
      "Processing PayPal payment of $50\n"
     ]
    }
   ],
   "source": [
    "from abc import ABC, abstractmethod\n",
    "\n",
    "# Abstract class\n",
    "class Payment(ABC):\n",
    "    @abstractmethod\n",
    "    def process_payment(self, amount):\n",
    "        \"\"\"Abstract method that must be implemented in child classes\"\"\"\n",
    "        pass\n",
    "\n",
    "# Concrete class for Credit Card Payment\n",
    "class CreditCardPayment(Payment):\n",
    "    def process_payment(self, amount):\n",
    "        return f\"Processing credit card payment of ${amount}\"\n",
    "\n",
    "# Concrete class for PayPal Payment\n",
    "class PayPalPayment(Payment):\n",
    "    def process_payment(self, amount):\n",
    "        return f\"Processing PayPal payment of ${amount}\"\n",
    "\n",
    "# Using abstraction\n",
    "payment1 = CreditCardPayment()\n",
    "payment2 = PayPalPayment()\n",
    "\n",
    "print(payment1.process_payment(100))  # Output: Processing credit card payment of $100\n",
    "print(payment2.process_payment(50))   # Output: Processing PayPal payment of $50\n"
   ]
  },
  {
   "cell_type": "markdown",
   "metadata": {},
   "source": [
    "**Why Use Abstraction?**\n",
    "1. **Forces subclasses to implement specific methods** (process_payment()).\n",
    "2. **Hides implementation details**, providing a clear interface.\n",
    "3. **Ensures consistency** across multiple payment methods."
   ]
  },
  {
   "cell_type": "markdown",
   "metadata": {},
   "source": [
    "### Inheritance\n",
    "\n",
    "Inheritance allows a new class (child) to inherit attributes and methods from an existing class (parent). This avoids code duplication and promotes reusability."
   ]
  },
  {
   "cell_type": "code",
   "execution_count": 5,
   "metadata": {},
   "outputs": [
    {
     "name": "stdout",
     "output_type": "stream",
     "text": [
      "2022 Toyota Corolla\n",
      "2023 Tesla Model 3 with a 75 kWh battery\n"
     ]
    }
   ],
   "source": [
    "# Parent Class\n",
    "class Car:\n",
    "    def __init__(self, brand, model, year):\n",
    "        self.brand = brand\n",
    "        self.model = model\n",
    "        self.year = year\n",
    "\n",
    "    def display_info(self):\n",
    "        return f\"{self.year} {self.brand} {self.model}\"\n",
    "\n",
    "# Child Class inheriting from Car\n",
    "class ElectricCar(Car):\n",
    "    def __init__(self, brand, model, year, battery_size):\n",
    "        super().__init__(brand, model, year)  # Inherit attributes from parent class\n",
    "        self.battery_size = battery_size  # New attribute\n",
    "\n",
    "    def display_info(self):  # Overriding method\n",
    "        return f\"{self.year} {self.brand} {self.model} with a {self.battery_size} kWh battery\"\n",
    "\n",
    "# Creating objects\n",
    "car1 = Car(\"Toyota\", \"Corolla\", 2022)\n",
    "ev1 = ElectricCar(\"Tesla\", \"Model 3\", 2023, 75)\n",
    "\n",
    "print(car1.display_info())  # Output: 2022 Toyota Corolla\n",
    "print(ev1.display_info())   # Output: 2023 Tesla Model 3 with a 75 kWh battery\n"
   ]
  },
  {
   "cell_type": "markdown",
   "metadata": {},
   "source": [
    "Why this?\n",
    "1. **Code Reusability**: ElectricCar reuses Car's attributes and methods.\n",
    "2. **Extensibility**: We can add new features (battery_size) without modifying the Car class.\n",
    "3. **Method Overriding**: display_info() is customized in ElectricCar."
   ]
  },
  {
   "cell_type": "markdown",
   "metadata": {},
   "source": [
    "### Polymorphism\n",
    "\n",
    "Polymorphism allows different classes to have methods with the same name but different implementations. This makes code more flexible and reusable."
   ]
  },
  {
   "cell_type": "code",
   "execution_count": 6,
   "metadata": {},
   "outputs": [
    {
     "name": "stdout",
     "output_type": "stream",
     "text": [
      "Woof! Woof!\n",
      "Meow! Meow!\n",
      "Animal makes a sound\n"
     ]
    }
   ],
   "source": [
    "# Example 1: Method Overriding in Polymorphism\n",
    "\n",
    "class Animal:\n",
    "    def speak(self):\n",
    "        return \"Animal makes a sound\"\n",
    "\n",
    "class Dog(Animal):\n",
    "    def speak(self):  # Overriding the parent method\n",
    "        return \"Woof! Woof!\"\n",
    "\n",
    "class Cat(Animal):\n",
    "    def speak(self):  # Overriding the parent method\n",
    "        return \"Meow! Meow!\"\n",
    "\n",
    "# Using polymorphism\n",
    "animals = [Dog(), Cat(), Animal()]\n",
    "for animal in animals:\n",
    "    print(animal.speak())  \n",
    "# Output:\n",
    "# Woof! Woof!\n",
    "# Meow! Meow!\n",
    "# Animal makes a sound\n"
   ]
  },
  {
   "cell_type": "markdown",
   "metadata": {},
   "source": [
    "Here, each class has a speak() method, but the behavior changes based on the object type.\n"
   ]
  },
  {
   "cell_type": "code",
   "execution_count": 7,
   "metadata": {},
   "outputs": [
    {
     "name": "stdout",
     "output_type": "stream",
     "text": [
      "Car is driving\n",
      "Boat is sailing\n",
      "Airplane is flying\n"
     ]
    }
   ],
   "source": [
    "# Example 2: Duck Typing (Dynamic Polymorphism)\n",
    "# In Python, if an object behaves like a certain type, \n",
    "# it's treated as that type (even if it's from a different class).\n",
    "\n",
    "class Car:\n",
    "    def move(self):\n",
    "        return \"Car is driving\"\n",
    "\n",
    "class Boat:\n",
    "    def move(self):\n",
    "        return \"Boat is sailing\"\n",
    "\n",
    "class Airplane:\n",
    "    def move(self):\n",
    "        return \"Airplane is flying\"\n",
    "\n",
    "# Using polymorphism\n",
    "vehicles = [Car(), Boat(), Airplane()]\n",
    "for vehicle in vehicles:\n",
    "    print(vehicle.move())  \n",
    "# Output:\n",
    "# Car is driving\n",
    "# Boat is sailing\n",
    "# Airplane is flying\n"
   ]
  },
  {
   "cell_type": "markdown",
   "metadata": {},
   "source": [
    "Here, all objects have a move() method, but they behave differently based on their class.\n",
    "\n",
    "**Why Use Polymorphism?**\n",
    "1. **Flexible Code**: Works with different object types in the same way.\n",
    "2. **Improves Readability**: A single interface (speak(), move()) works across different classes.\n",
    "3. **Encourages Reusability**: You don’t need to write separate logic for each object type.\n"
   ]
  },
  {
   "cell_type": "markdown",
   "metadata": {},
   "source": [
    "### From Krish Naik course\n",
    "# What is class\n",
    "\n",
    "class is like a real world object, like a car which have various attributes, properties and functions. In a car, you have different attributes such as doors, windows, motor, etc. We have also different functions in a car like driving, in driving you have different speeds. "
   ]
  },
  {
   "cell_type": "code",
   "execution_count": 8,
   "metadata": {},
   "outputs": [],
   "source": [
    "# for creating a class, you have to use the class keyword\n",
    "# for creating an object, you have to use the class name followed by parentheses\n",
    "# for creating a method, you have to use the def keyword\n",
    "# for accessing an attribute, you have to use the dot operator\n",
    "# for calling a method, you have to use the dot operator followed by parentheses\n",
    "# for inheriting from a class, you have to use parentheses after the class name\n",
    "# for overriding a method, you have to define a method with the same name in the child class\n",
    "\n",
    "class Car:\n",
    "    pass # Empty class meaning no attributes or methods or properties are defined in the class"
   ]
  },
  {
   "cell_type": "code",
   "execution_count": 9,
   "metadata": {},
   "outputs": [
    {
     "data": {
      "text/plain": [
       "<__main__.Car at 0x10463b7d0>"
      ]
     },
     "execution_count": 9,
     "metadata": {},
     "output_type": "execute_result"
    }
   ],
   "source": [
    "# Bad way of creating a class\n",
    "# we can initialize an object from this class and assign values to its attributes\n",
    "# instances can be created from this class and assigned values to its attributes\n",
    "car1 = Car() \n",
    "car1"
   ]
  },
  {
   "cell_type": "code",
   "execution_count": 10,
   "metadata": {},
   "outputs": [],
   "source": [
    "# define properties\n",
    "\n",
    "car1.windows = 5\n",
    "car1.doors = 4\n",
    "car1.color = \"Blue\""
   ]
  },
  {
   "cell_type": "code",
   "execution_count": 11,
   "metadata": {},
   "outputs": [
    {
     "name": "stdout",
     "output_type": "stream",
     "text": [
      "5\n"
     ]
    }
   ],
   "source": [
    "print(car1.windows)"
   ]
  },
  {
   "cell_type": "code",
   "execution_count": 12,
   "metadata": {},
   "outputs": [],
   "source": [
    "# another instance\n",
    "car2 = Car()"
   ]
  },
  {
   "cell_type": "code",
   "execution_count": 13,
   "metadata": {},
   "outputs": [],
   "source": [
    "# creating properties for car2\n",
    "car2.windows = 3\n",
    "car2.doors = 2\n",
    "car2.color = \"Red\""
   ]
  },
  {
   "cell_type": "code",
   "execution_count": 14,
   "metadata": {},
   "outputs": [
    {
     "name": "stdout",
     "output_type": "stream",
     "text": [
      "3\n"
     ]
    }
   ],
   "source": [
    "print(car2.windows)"
   ]
  },
  {
   "cell_type": "code",
   "execution_count": 15,
   "metadata": {},
   "outputs": [
    {
     "name": "stdout",
     "output_type": "stream",
     "text": [
      "Blue\n"
     ]
    }
   ],
   "source": [
    "print(car1.color)"
   ]
  },
  {
   "cell_type": "code",
   "execution_count": 16,
   "metadata": {},
   "outputs": [],
   "source": [
    "# let's add another property to car2\n",
    "car2.engine = \"petrol\""
   ]
  },
  {
   "cell_type": "code",
   "execution_count": 17,
   "metadata": {},
   "outputs": [
    {
     "name": "stdout",
     "output_type": "stream",
     "text": [
      "petrol\n"
     ]
    }
   ],
   "source": [
    "print(car2.engine)"
   ]
  },
  {
   "cell_type": "code",
   "execution_count": 18,
   "metadata": {},
   "outputs": [
    {
     "data": {
      "text/plain": [
       "['__class__',\n",
       " '__delattr__',\n",
       " '__dict__',\n",
       " '__dir__',\n",
       " '__doc__',\n",
       " '__eq__',\n",
       " '__format__',\n",
       " '__ge__',\n",
       " '__getattribute__',\n",
       " '__getstate__',\n",
       " '__gt__',\n",
       " '__hash__',\n",
       " '__init__',\n",
       " '__init_subclass__',\n",
       " '__le__',\n",
       " '__lt__',\n",
       " '__module__',\n",
       " '__ne__',\n",
       " '__new__',\n",
       " '__reduce__',\n",
       " '__reduce_ex__',\n",
       " '__repr__',\n",
       " '__setattr__',\n",
       " '__sizeof__',\n",
       " '__str__',\n",
       " '__subclasshook__',\n",
       " '__weakref__',\n",
       " 'color',\n",
       " 'doors',\n",
       " 'windows']"
      ]
     },
     "execution_count": 18,
     "metadata": {},
     "output_type": "execute_result"
    }
   ],
   "source": [
    "# we need to define and fix the number of attributes that a class can have\n",
    "# so, the previous method is not a good way to create a class\n",
    "# for defining the number of attributes in a class, we need to use the __init__ method\n",
    "# by using dir(car1), we can see the inbuit functions of the class\n",
    "dir(car1)"
   ]
  },
  {
   "cell_type": "code",
   "execution_count": 19,
   "metadata": {},
   "outputs": [],
   "source": [
    "# __init__ is like a constructor in other programming languages\n",
    "# it initialized how many properties a class can have\n",
    "# def __init__ and alwasy pass self as the first argument\n",
    "\n",
    "class Car:\n",
    "    def __init__(self, WINDOW, DOOR, COLOR, ENGINE):\n",
    "        self.windows = WINDOW # variables which are attributes by usning self\n",
    "        self.doors = DOOR\n",
    "        self.color = COLOR\n",
    "        self.engine = ENGINE"
   ]
  },
  {
   "cell_type": "code",
   "execution_count": 20,
   "metadata": {},
   "outputs": [],
   "source": [
    "# initializing the object from that car class\n",
    "\n",
    "car1 = Car(4, 5, \"Blue\", \"Petrol\")\n",
    "car2 = Car(3, 2, \"Red\", \"Diesel\")"
   ]
  },
  {
   "cell_type": "code",
   "execution_count": 21,
   "metadata": {},
   "outputs": [
    {
     "name": "stdout",
     "output_type": "stream",
     "text": [
      "4\n",
      "2\n",
      "Red\n"
     ]
    }
   ],
   "source": [
    "print(car1.windows)\n",
    "print(car2.doors)\n",
    "print(car2.color)"
   ]
  },
  {
   "cell_type": "code",
   "execution_count": 22,
   "metadata": {},
   "outputs": [],
   "source": [
    "# suppose we want to understand what is the engine type from this particilar method\n",
    "\n",
    "# previous class\n",
    "class Car:\n",
    "    def __init__(self, WINDOW, DOOR, COLOR, ENGINE):\n",
    "        self.windows = WINDOW # variables which are  properties or attributes by usning self\n",
    "        self.doors = DOOR\n",
    "        self.color = COLOR\n",
    "        self.engine = ENGINE\n",
    "\n",
    "    def self_driving(self):  # this is a method of the class\n",
    "        return \"This is a {} car\".format(self.engine)"
   ]
  },
  {
   "cell_type": "code",
   "execution_count": 23,
   "metadata": {},
   "outputs": [],
   "source": [
    "car1 = Car(4, 5, \"Blue\", \"petrol\")"
   ]
  },
  {
   "cell_type": "code",
   "execution_count": 24,
   "metadata": {},
   "outputs": [
    {
     "data": {
      "text/plain": [
       "'Blue'"
      ]
     },
     "execution_count": 24,
     "metadata": {},
     "output_type": "execute_result"
    }
   ],
   "source": [
    "# calling an attribute\n",
    "car1.color"
   ]
  },
  {
   "cell_type": "code",
   "execution_count": 25,
   "metadata": {},
   "outputs": [
    {
     "data": {
      "text/plain": [
       "'This is a petrol car'"
      ]
     },
     "execution_count": 25,
     "metadata": {},
     "output_type": "execute_result"
    }
   ],
   "source": [
    "# calling a method\n",
    "car1.self_driving() #method need ()"
   ]
  },
  {
   "cell_type": "markdown",
   "metadata": {},
   "source": [
    "## OOP - Inheritance"
   ]
  },
  {
   "cell_type": "code",
   "execution_count": 26,
   "metadata": {},
   "outputs": [],
   "source": [
    "# all the class variables are public\n",
    "# Car Blueprint\n",
    "class Car:\n",
    "    def __init__(self, window, door, engine):\n",
    "        self.windows = window\n",
    "        self.doors = door\n",
    "        self.enginetype = engine\n",
    "    def drive(self):\n",
    "        print(\"The Person drives the car\")\n",
    "\n",
    "# when you use no underscore after self., it means that the variable is public\n",
    "# you can access it from outside the class\n",
    "# when you use one underscore after self._, it means that the variable is protected\n",
    "# you can access it from outside the class but you should not\n",
    "# when you use two underscores after self.__, it means that the variable is private\n",
    "# you cannot access it from outside the class"
   ]
  },
  {
   "cell_type": "code",
   "execution_count": 27,
   "metadata": {},
   "outputs": [],
   "source": [
    "car = Car(4, 5, \"Diesel\")"
   ]
  },
  {
   "cell_type": "code",
   "execution_count": 28,
   "metadata": {},
   "outputs": [
    {
     "name": "stdout",
     "output_type": "stream",
     "text": [
      "The Person drives the car\n"
     ]
    }
   ],
   "source": [
    "car.drive()"
   ]
  },
  {
   "cell_type": "code",
   "execution_count": 29,
   "metadata": {},
   "outputs": [
    {
     "data": {
      "text/plain": [
       "4"
      ]
     },
     "execution_count": 29,
     "metadata": {},
     "output_type": "execute_result"
    }
   ],
   "source": [
    "car.windows"
   ]
  },
  {
   "cell_type": "code",
   "execution_count": 30,
   "metadata": {},
   "outputs": [
    {
     "data": {
      "text/plain": [
       "['__class__',\n",
       " '__delattr__',\n",
       " '__dict__',\n",
       " '__dir__',\n",
       " '__doc__',\n",
       " '__eq__',\n",
       " '__format__',\n",
       " '__ge__',\n",
       " '__getattribute__',\n",
       " '__getstate__',\n",
       " '__gt__',\n",
       " '__hash__',\n",
       " '__init__',\n",
       " '__init_subclass__',\n",
       " '__le__',\n",
       " '__lt__',\n",
       " '__module__',\n",
       " '__ne__',\n",
       " '__new__',\n",
       " '__reduce__',\n",
       " '__reduce_ex__',\n",
       " '__repr__',\n",
       " '__setattr__',\n",
       " '__sizeof__',\n",
       " '__str__',\n",
       " '__subclasshook__',\n",
       " '__weakref__',\n",
       " 'doors',\n",
       " 'drive',\n",
       " 'enginetype',\n",
       " 'windows']"
      ]
     },
     "execution_count": 30,
     "metadata": {},
     "output_type": "execute_result"
    }
   ],
   "source": [
    "dir(car)\n",
    "# shows all the public variables and methods of the class"
   ]
  },
  {
   "cell_type": "code",
   "execution_count": 31,
   "metadata": {},
   "outputs": [
    {
     "name": "stdout",
     "output_type": "stream",
     "text": [
      "The Person drives the car\n"
     ]
    }
   ],
   "source": [
    "car.drive() # calling the method"
   ]
  },
  {
   "cell_type": "code",
   "execution_count": 32,
   "metadata": {},
   "outputs": [],
   "source": [
    "class audi(Car): # inheriting the class Car, havinga all the properties of Car\n",
    "# audi is the child class and Car is the parent class\n",
    "    def __init__(self,window, door, engine, enableai):\n",
    "        super().__init__(window, door, engine)\n",
    "        self.enableai = enableai # this is the new property of the child class\n",
    "    def self_driving(self):\n",
    "        print(\"Audi supports self driving\")"
   ]
  },
  {
   "cell_type": "code",
   "execution_count": 33,
   "metadata": {},
   "outputs": [],
   "source": [
    "# initializing the object from the child class\n",
    "audiQ7 = audi(5, 5, \"Diesel\", True)"
   ]
  },
  {
   "cell_type": "code",
   "execution_count": 34,
   "metadata": {},
   "outputs": [
    {
     "data": {
      "text/plain": [
       "['__class__',\n",
       " '__delattr__',\n",
       " '__dict__',\n",
       " '__dir__',\n",
       " '__doc__',\n",
       " '__eq__',\n",
       " '__format__',\n",
       " '__ge__',\n",
       " '__getattribute__',\n",
       " '__getstate__',\n",
       " '__gt__',\n",
       " '__hash__',\n",
       " '__init__',\n",
       " '__init_subclass__',\n",
       " '__le__',\n",
       " '__lt__',\n",
       " '__module__',\n",
       " '__ne__',\n",
       " '__new__',\n",
       " '__reduce__',\n",
       " '__reduce_ex__',\n",
       " '__repr__',\n",
       " '__setattr__',\n",
       " '__sizeof__',\n",
       " '__str__',\n",
       " '__subclasshook__',\n",
       " '__weakref__',\n",
       " 'doors',\n",
       " 'drive',\n",
       " 'enableai',\n",
       " 'enginetype',\n",
       " 'self_driving',\n",
       " 'windows']"
      ]
     },
     "execution_count": 34,
     "metadata": {},
     "output_type": "execute_result"
    }
   ],
   "source": [
    "dir(audiQ7)"
   ]
  },
  {
   "cell_type": "code",
   "execution_count": 35,
   "metadata": {},
   "outputs": [
    {
     "data": {
      "text/plain": [
       "5"
      ]
     },
     "execution_count": 35,
     "metadata": {},
     "output_type": "execute_result"
    }
   ],
   "source": [
    "audiQ7.doors"
   ]
  },
  {
   "cell_type": "code",
   "execution_count": 36,
   "metadata": {},
   "outputs": [
    {
     "name": "stdout",
     "output_type": "stream",
     "text": [
      "The Person drives the car\n"
     ]
    }
   ],
   "source": [
    "audiQ7.drive()"
   ]
  },
  {
   "cell_type": "code",
   "execution_count": 37,
   "metadata": {},
   "outputs": [
    {
     "data": {
      "text/plain": [
       "True"
      ]
     },
     "execution_count": 37,
     "metadata": {},
     "output_type": "execute_result"
    }
   ],
   "source": [
    "audiQ7.enableai"
   ]
  },
  {
   "cell_type": "code",
   "execution_count": 38,
   "metadata": {},
   "outputs": [
    {
     "name": "stdout",
     "output_type": "stream",
     "text": [
      "Audi supports self driving\n"
     ]
    }
   ],
   "source": [
    "audiQ7.self_driving()"
   ]
  },
  {
   "cell_type": "markdown",
   "metadata": {},
   "source": [
    "## OOP Magic Methods"
   ]
  },
  {
   "cell_type": "code",
   "execution_count": 39,
   "metadata": {},
   "outputs": [],
   "source": [
    "# all the class variables are public\n",
    "# Car Blueprint\n",
    "class Car:\n",
    "    def __init__(self, window, door, engine): # initialization constructor \n",
    "        self.windows = window # variables which are  properties or attributes by usning self\n",
    "        self.doors = door\n",
    "        self.enginetype = engine\n",
    "    def drive(self): # method of the class (function inside a class)\n",
    "        print(\"The Person drives the car\")"
   ]
  },
  {
   "cell_type": "code",
   "execution_count": 40,
   "metadata": {},
   "outputs": [
    {
     "data": {
      "text/plain": [
       "<__main__.Car at 0x10465e910>"
      ]
     },
     "execution_count": 40,
     "metadata": {},
     "output_type": "execute_result"
    }
   ],
   "source": [
    "c = Car(4,5,\"Diesel\") # object of the class, initialization of the object\n",
    "c # output shows this is an object of this particular Car class at this memory location"
   ]
  },
  {
   "cell_type": "code",
   "execution_count": 41,
   "metadata": {},
   "outputs": [
    {
     "data": {
      "text/plain": [
       "['__class__',\n",
       " '__delattr__',\n",
       " '__dict__',\n",
       " '__dir__',\n",
       " '__doc__',\n",
       " '__eq__',\n",
       " '__format__',\n",
       " '__ge__',\n",
       " '__getattribute__',\n",
       " '__getstate__',\n",
       " '__gt__',\n",
       " '__hash__',\n",
       " '__init__',\n",
       " '__init_subclass__',\n",
       " '__le__',\n",
       " '__lt__',\n",
       " '__module__',\n",
       " '__ne__',\n",
       " '__new__',\n",
       " '__reduce__',\n",
       " '__reduce_ex__',\n",
       " '__repr__',\n",
       " '__setattr__',\n",
       " '__sizeof__',\n",
       " '__str__',\n",
       " '__subclasshook__',\n",
       " '__weakref__',\n",
       " 'doors',\n",
       " 'drive',\n",
       " 'enginetype',\n",
       " 'windows']"
      ]
     },
     "execution_count": 41,
     "metadata": {},
     "output_type": "execute_result"
    }
   ],
   "source": [
    "# def drive(self): # method of the class (function inside a class)\n",
    "# lets see all the methods and attributes of the class\n",
    "dir(c)"
   ]
  },
  {
   "cell_type": "markdown",
   "metadata": {},
   "source": [
    "All the above attributes and methods are called as magic method in class. Because we created an object as c = Car(4,5,\"Diesel\"). Internally through some magic, the \"_init__\" is basically getting called. we can also override these methods."
   ]
  },
  {
   "cell_type": "code",
   "execution_count": 42,
   "metadata": {},
   "outputs": [
    {
     "data": {
      "text/plain": [
       "<__main__.Car at 0x10465e910>"
      ]
     },
     "execution_count": 42,
     "metadata": {},
     "output_type": "execute_result"
    }
   ],
   "source": [
    "c"
   ]
  },
  {
   "cell_type": "code",
   "execution_count": 43,
   "metadata": {},
   "outputs": [
    {
     "name": "stdout",
     "output_type": "stream",
     "text": [
      "<__main__.Car object at 0x10465e910>\n"
     ]
    }
   ],
   "source": [
    "print(c)"
   ]
  },
  {
   "cell_type": "markdown",
   "metadata": {},
   "source": [
    "The above out put of print(c) is calling _str__ magic method. This method displays the output message. For overriding it we can do:"
   ]
  },
  {
   "cell_type": "code",
   "execution_count": 44,
   "metadata": {},
   "outputs": [
    {
     "name": "stdout",
     "output_type": "stream",
     "text": [
      "The object of the class Car has been initialized\n"
     ]
    },
    {
     "data": {
      "text/plain": [
       "<__main__.Car at 0x104668550>"
      ]
     },
     "execution_count": 44,
     "metadata": {},
     "output_type": "execute_result"
    }
   ],
   "source": [
    "class Car:\n",
    "    def __init__(self, window, door, engine):\n",
    "        self.windows = window \n",
    "        self.doors = door\n",
    "        self.enginetype = engine\n",
    "    def __str__(self):\n",
    "        return \"The object of the class Car has been initialized\" # print doesnt work here\n",
    "    def drive(self): \n",
    "        print(\"The Person drives the car\")\n",
    "\n",
    "# Create an instance of the Car class\n",
    "c = Car(window=4, door=5, engine='Diesel')\n",
    "print(c) # the print statement is overriden by the __str__ method\n",
    "c"
   ]
  },
  {
   "cell_type": "code",
   "execution_count": 45,
   "metadata": {},
   "outputs": [
    {
     "data": {
      "text/plain": [
       "24"
      ]
     },
     "execution_count": 45,
     "metadata": {},
     "output_type": "execute_result"
    }
   ],
   "source": [
    "# let's take another magic method from the dir(c) output\n",
    "# __sizeof__ is an inbuilt method that returns the size of the object in bytes\n",
    "c.__sizeof__()"
   ]
  },
  {
   "cell_type": "code",
   "execution_count": 46,
   "metadata": {},
   "outputs": [
    {
     "name": "stdout",
     "output_type": "stream",
     "text": [
      "This mean the entire object is of size:  24 bytes\n"
     ]
    }
   ],
   "source": [
    "print(\"This mean the entire object is of size: \", c.__sizeof__(), \"bytes\")"
   ]
  },
  {
   "cell_type": "code",
   "execution_count": 47,
   "metadata": {},
   "outputs": [
    {
     "name": "stdout",
     "output_type": "stream",
     "text": [
      "The entire size of the object is 24 bytes.\n"
     ]
    }
   ],
   "source": [
    "print(\"The entire size of the object is {} bytes.\".format(c.__sizeof__()))"
   ]
  },
  {
   "cell_type": "code",
   "execution_count": 48,
   "metadata": {},
   "outputs": [
    {
     "name": "stdout",
     "output_type": "stream",
     "text": [
      "The object of the class Car has been initialized\n"
     ]
    }
   ],
   "source": [
    "# to override the __sizeof__ method\n",
    "class Car:\n",
    "    def __init__(self, window, door, engine):\n",
    "        self.windows = window\n",
    "        self.doors = door\n",
    "        self.enginetype = engine\n",
    "    def __str__(self):\n",
    "        return \"The object of the class Car has been initialized\"\n",
    "    def __sizeof__(self):\n",
    "        return \"The size of the object is.\"\n",
    "    def drive(self): \n",
    "        print(\"The Person drives the car\")\n",
    "\n",
    "c = Car(4,5,\"Diesel\")\n",
    "print(c)"
   ]
  },
  {
   "cell_type": "code",
   "execution_count": 49,
   "metadata": {},
   "outputs": [
    {
     "data": {
      "text/plain": [
       "'The size of the object is.'"
      ]
     },
     "execution_count": 49,
     "metadata": {},
     "output_type": "execute_result"
    }
   ],
   "source": [
    "c.__sizeof__()"
   ]
  },
  {
   "cell_type": "code",
   "execution_count": 50,
   "metadata": {},
   "outputs": [
    {
     "name": "stdout",
     "output_type": "stream",
     "text": [
      "The object of the class Car has been initialized\n",
      "135\n"
     ]
    }
   ],
   "source": [
    "# to get the real size of the object in the output of the __sizeof__ method\n",
    "# you should call the original __sizeof__ method from the base class.\n",
    "# you can do this by using the super() function\n",
    "\n",
    "import sys\n",
    "class Car:\n",
    "    def __init__(self, window, door, engine):\n",
    "        self.windows = window\n",
    "        self.doors = door\n",
    "        self.enginetype = engine\n",
    "    \n",
    "    def __str__(self):\n",
    "        return \"The object of the class Car has been initialized\"\n",
    "    \n",
    "    def __sizeof__(self):\n",
    "        # Call the base class __sizeof__ method to get the actual size\n",
    "        base_size = super().__sizeof__()\n",
    "        # Add the size of the attributes if needed\n",
    "        return base_size + sum(sys.getsizeof(attr) for attr in self.__dict__.values())\n",
    "    \n",
    "    def drive(self): \n",
    "        print(\"The Person drives the car\")\n",
    "\n",
    "c = Car(4, 5, \"Diesel\")\n",
    "print(c)\n",
    "\n",
    "# Get the size of the object\n",
    "print(c.__sizeof__())"
   ]
  },
  {
   "cell_type": "code",
   "execution_count": 51,
   "metadata": {},
   "outputs": [],
   "source": [
    "# now we use __new__ method which is called before the __init__ method\n",
    "# __new__ method is used to create the object\n",
    "class Car:\n",
    "    def __new__(self, windows, doors, engine):\n",
    "        print(\"The object has  started to get initialized\")\n",
    "        return super().__new__(self)\n",
    "    def __init__(self, windows, doors, engine):\n",
    "        self.windows = windows \n",
    "        self.doors = doors\n",
    "        self.enginetype = engine\n",
    "    def __str__(self):\n",
    "        return \"The object of the class Car has been initialized\"\n",
    "    def __sizeof__(self):\n",
    "        return \"The size of the object is.\"\n",
    "    def drive(self): \n",
    "        print(\"The Person drives the car\")"
   ]
  },
  {
   "cell_type": "code",
   "execution_count": 52,
   "metadata": {},
   "outputs": [
    {
     "name": "stdout",
     "output_type": "stream",
     "text": [
      "The object has  started to get initialized\n"
     ]
    }
   ],
   "source": [
    "c = Car(4, 5, \"Diesel\")"
   ]
  },
  {
   "cell_type": "code",
   "execution_count": 53,
   "metadata": {},
   "outputs": [
    {
     "name": "stdout",
     "output_type": "stream",
     "text": [
      "The object of the class Car has been initialized\n"
     ]
    }
   ],
   "source": [
    "print(c)"
   ]
  },
  {
   "cell_type": "code",
   "execution_count": 54,
   "metadata": {},
   "outputs": [
    {
     "data": {
      "text/plain": [
       "'The size of the object is.'"
      ]
     },
     "execution_count": 54,
     "metadata": {},
     "output_type": "execute_result"
    }
   ],
   "source": [
    "c.__sizeof__()"
   ]
  },
  {
   "cell_type": "code",
   "execution_count": 55,
   "metadata": {},
   "outputs": [
    {
     "name": "stdout",
     "output_type": "stream",
     "text": [
      "The Person drives the car\n"
     ]
    }
   ],
   "source": [
    "c.drive()"
   ]
  },
  {
   "cell_type": "markdown",
   "metadata": {},
   "source": [
    "# OOPS-Multiple inheritance"
   ]
  },
  {
   "cell_type": "code",
   "execution_count": 56,
   "metadata": {},
   "outputs": [],
   "source": [
    "class A:\n",
    "    def method1(self):\n",
    "        print(\"A class method is called\")"
   ]
  },
  {
   "cell_type": "code",
   "execution_count": 57,
   "metadata": {},
   "outputs": [],
   "source": [
    "class B(A): # class B is inheriting from class A\n",
    "    def method1(self):\n",
    "        print(\"B class method is called\")\n",
    "    def method2(self):\n",
    "        print(\"B class method2 is called\")"
   ]
  },
  {
   "cell_type": "code",
   "execution_count": 58,
   "metadata": {},
   "outputs": [],
   "source": [
    "class C(A): # class C is inheriting from class A\n",
    "    def method1(self):\n",
    "        print(\"C class method is called\")"
   ]
  },
  {
   "cell_type": "code",
   "execution_count": 59,
   "metadata": {},
   "outputs": [],
   "source": [
    "class D(B, C): # class D is inheriting from class B and C --> Multiple Inheritance\n",
    "    def method1(self):\n",
    "        print(\"D class method is called\")"
   ]
  },
  {
   "cell_type": "code",
   "execution_count": 60,
   "metadata": {},
   "outputs": [
    {
     "name": "stdout",
     "output_type": "stream",
     "text": [
      "D class method is called\n"
     ]
    }
   ],
   "source": [
    "d = D() # creating object d of class D\n",
    "d.method1() # D class method is called"
   ]
  },
  {
   "cell_type": "code",
   "execution_count": 61,
   "metadata": {},
   "outputs": [
    {
     "name": "stdout",
     "output_type": "stream",
     "text": [
      "B class method is called\n"
     ]
    }
   ],
   "source": [
    "# how to call method of parent class like B or C or even A class \n",
    "# suppose we want to call method1 of class B\n",
    "B.method1(d) # B class method is called"
   ]
  },
  {
   "cell_type": "code",
   "execution_count": 62,
   "metadata": {},
   "outputs": [
    {
     "name": "stdout",
     "output_type": "stream",
     "text": [
      "A class method is called\n"
     ]
    }
   ],
   "source": [
    "A.method1(d) # A class method is called"
   ]
  },
  {
   "cell_type": "code",
   "execution_count": 63,
   "metadata": {},
   "outputs": [],
   "source": [
    "class D(B, C): # class D is inheriting from class B and C --> Multiple Inheritance\n",
    "    def method1(self):\n",
    "        print(\"D class method is called\")\n",
    "        C.method1(self)\n",
    "        B.method1(self)\n",
    "        A.method1(self)"
   ]
  },
  {
   "cell_type": "code",
   "execution_count": 64,
   "metadata": {},
   "outputs": [
    {
     "name": "stdout",
     "output_type": "stream",
     "text": [
      "D class method is called\n",
      "C class method is called\n",
      "B class method is called\n",
      "A class method is called\n"
     ]
    }
   ],
   "source": [
    "d=D()\n",
    "d.method1()\n",
    "# from D we are calling method1 of C and B and A class"
   ]
  }
 ],
 "metadata": {
  "kernelspec": {
   "display_name": "base",
   "language": "python",
   "name": "python3"
  },
  "language_info": {
   "codemirror_mode": {
    "name": "ipython",
    "version": 3
   },
   "file_extension": ".py",
   "mimetype": "text/x-python",
   "name": "python",
   "nbconvert_exporter": "python",
   "pygments_lexer": "ipython3",
   "version": "3.11.7"
  }
 },
 "nbformat": 4,
 "nbformat_minor": 2
}
