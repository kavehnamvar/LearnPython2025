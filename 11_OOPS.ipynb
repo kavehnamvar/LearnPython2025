{
 "cells": [
  {
   "cell_type": "markdown",
   "metadata": {},
   "source": [
    "A class is a blueprint for creating objects. It defines the structure and behavior of objects by encapsulating attributes (data/variables) and methods (functions) that operate on that data.\n",
    "\n",
    "example of the basic structure of a class:\n"
   ]
  },
  {
   "cell_type": "code",
   "execution_count": 1,
   "metadata": {},
   "outputs": [
    {
     "name": "stdout",
     "output_type": "stream",
     "text": [
      "2022 Toyota Corolla\n"
     ]
    }
   ],
   "source": [
    "class Car:\n",
    "    def __init__(self, brand, model, year):\n",
    "        self.brand = brand  # Attribute\n",
    "        self.model = model\n",
    "        self.year = year\n",
    "\n",
    "    def display_info(self):  # Method\n",
    "        return f\"{self.year} {self.brand} {self.model}\"\n",
    "\n",
    "#### Creating an object (Instance of the class)\n",
    "car1 = Car(\"Toyota\", \"Corolla\", 2022)\n",
    "print(car1.display_info())  # Output: 2022 Toyota Corolla"
   ]
  },
  {
   "cell_type": "markdown",
   "metadata": {},
   "source": [
    "## key concepts in classes:\n",
    "\n",
    "1. _ _init__ (**Constructor**): Initializes the object's attributes when an instance is created.\n",
    "2. **Attributes** (self.brand, self.model) store data unique to each object.\n",
    "3. **Methods** (display_info) define behavior.\n",
    "4. **Objects** (car1) are instances of a class."
   ]
  },
  {
   "cell_type": "markdown",
   "metadata": {},
   "source": [
    "## Use Cases of Classes\n",
    "\n",
    "1. **Encapsulation**: Bundling data and methods together (e.g., User profiles, Bank accounts).\n",
    "2. **Code Reusability**: Once a class is defined, multiple objects can be created without rewriting code.\n",
    "3. **Abstraction**: Hiding complex implementation details while exposing only necessary functionality.\n",
    "4. **Inheritance**: Creating a new class from an existing one (e.g., ElectricCar inheriting from Car).\n",
    "5. **Polymorphism**: Methods in different classes having the same name but different behaviors."
   ]
  },
  {
   "cell_type": "markdown",
   "metadata": {},
   "source": [
    "### Encapsulation\n",
    "\n"
   ]
  },
  {
   "cell_type": "markdown",
   "metadata": {},
   "source": [
    "### Code Reusability\n",
    "\n"
   ]
  },
  {
   "cell_type": "markdown",
   "metadata": {},
   "source": [
    "### Abstraction\n",
    "\n"
   ]
  },
  {
   "cell_type": "markdown",
   "metadata": {},
   "source": [
    "### Inheritance\n",
    "\n",
    "Inheritance allows a new class (child) to inherit attributes and methods from an existing class (parent). This avoids code duplication and promotes reusability."
   ]
  },
  {
   "cell_type": "code",
   "execution_count": 2,
   "metadata": {},
   "outputs": [
    {
     "name": "stdout",
     "output_type": "stream",
     "text": [
      "2022 Toyota Corolla\n",
      "2023 Tesla Model 3 with a 75 kWh battery\n"
     ]
    }
   ],
   "source": [
    "# Parent Class\n",
    "class Car:\n",
    "    def __init__(self, brand, model, year):\n",
    "        self.brand = brand\n",
    "        self.model = model\n",
    "        self.year = year\n",
    "\n",
    "    def display_info(self):\n",
    "        return f\"{self.year} {self.brand} {self.model}\"\n",
    "\n",
    "# Child Class inheriting from Car\n",
    "class ElectricCar(Car):\n",
    "    def __init__(self, brand, model, year, battery_size):\n",
    "        super().__init__(brand, model, year)  # Inherit attributes from parent class\n",
    "        self.battery_size = battery_size  # New attribute\n",
    "\n",
    "    def display_info(self):  # Overriding method\n",
    "        return f\"{self.year} {self.brand} {self.model} with a {self.battery_size} kWh battery\"\n",
    "\n",
    "# Creating objects\n",
    "car1 = Car(\"Toyota\", \"Corolla\", 2022)\n",
    "ev1 = ElectricCar(\"Tesla\", \"Model 3\", 2023, 75)\n",
    "\n",
    "print(car1.display_info())  # Output: 2022 Toyota Corolla\n",
    "print(ev1.display_info())   # Output: 2023 Tesla Model 3 with a 75 kWh battery\n"
   ]
  },
  {
   "cell_type": "markdown",
   "metadata": {},
   "source": [
    "Why this?\n",
    "- **Code Reusability**: ElectricCar reuses Car's attributes and methods.\n",
    "- **Extensibility**: We can add new features (battery_size) without modifying the Car class.\n",
    "- **Method Overriding**: display_info() is customized in ElectricCar."
   ]
  },
  {
   "cell_type": "markdown",
   "metadata": {},
   "source": [
    "### Polymorphism\n",
    "\n"
   ]
  },
  {
   "cell_type": "markdown",
   "metadata": {},
   "source": [
    "### From Krish Nail course\n",
    "# What is class\n",
    "\n",
    "class is like a real world object, like a car which have some attributes, properties and functions. In a car, you have different attributes such as doors, windows, motor, etc. We have also different functions in a car like driving, in driving you have different speeds. "
   ]
  }
 ],
 "metadata": {
  "kernelspec": {
   "display_name": "base",
   "language": "python",
   "name": "python3"
  },
  "language_info": {
   "codemirror_mode": {
    "name": "ipython",
    "version": 3
   },
   "file_extension": ".py",
   "mimetype": "text/x-python",
   "name": "python",
   "nbconvert_exporter": "python",
   "pygments_lexer": "ipython3",
   "version": "3.12.7"
  }
 },
 "nbformat": 4,
 "nbformat_minor": 2
}
