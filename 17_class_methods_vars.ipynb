{
 "cells": [
  {
   "cell_type": "markdown",
   "metadata": {},
   "source": [
    "# Class methods and class variables\n",
    "\n",
    "The basic difference between **class methods** and **class variables** is:\n",
    "- Class Variables: Shared among all instances of the class. They belong to the class itself, not individual objects.\n",
    "- Class Methods: Operate on the class itself, not individual instances. They use @classmethod and take cls as a parameter instead of self."
   ]
  },
  {
   "cell_type": "code",
   "execution_count": 54,
   "metadata": {},
   "outputs": [
    {
     "name": "stdout",
     "output_type": "stream",
     "text": [
      "4\n",
      "4\n",
      "6\n",
      "6\n"
     ]
    }
   ],
   "source": [
    "class Car:\n",
    "    wheels = 4  # Class variable (same for all cars)\n",
    "\n",
    "    def __init__(self, brand, model):\n",
    "        self.brand = brand  # Instance variable (unique per car)\n",
    "        self.model = model\n",
    "\n",
    "    @classmethod\n",
    "    def change_wheels(cls, new_count):\n",
    "        cls.wheels = new_count  # Modifies the class variable\n",
    "\n",
    "# Creating objects / instances of the class\n",
    "car1 = Car(\"Toyota\", \"Corolla\") # car1 is an instance of Car (object) (intance variable)\n",
    "car2 = Car(\"Honda\", \"Civic\")\n",
    "\n",
    "print(car1.wheels)  # 4 (shared class variable)\n",
    "print(car2.wheels)  # 4\n",
    "\n",
    "Car.change_wheels(6)  # Changing class variable using class method\n",
    "\n",
    "print(car1.wheels)  # 6 (changed for all instances)\n",
    "print(car2.wheels)  # 6"
   ]
  },
  {
   "cell_type": "markdown",
   "metadata": {},
   "source": [
    "- Class variables store values shared across all instances.\n",
    "- Class methods modify or interact with class-level data.\n",
    "- Use cls in class methods to reference the class, similar to self in instance methods."
   ]
  },
  {
   "cell_type": "code",
   "execution_count": 55,
   "metadata": {},
   "outputs": [],
   "source": [
    "class Car:\n",
    "    base_price = 100000 # Class variable\n",
    "    def __init__(self, window, door, power):\n",
    "        self.windows = window # windows is the Instance variable\n",
    "        self.doors = door # doors is the Instance variable\n",
    "        self.power = power # power is the Instance variable\n",
    "    def what_base_price(self): # a method or a function inside a class\n",
    "        print(\"The base price is {}\".format(self.base_price))"
   ]
  },
  {
   "cell_type": "code",
   "execution_count": 56,
   "metadata": {},
   "outputs": [
    {
     "data": {
      "text/plain": [
       "100000"
      ]
     },
     "execution_count": 56,
     "metadata": {},
     "output_type": "execute_result"
    }
   ],
   "source": [
    "# in order to access this class variable (here the base_price), there are two ways\n",
    "# 1. by creating an instance\n",
    "car1 = Car(4, 5, 2000)\n",
    "car1.base_price"
   ]
  },
  {
   "cell_type": "code",
   "execution_count": 57,
   "metadata": {},
   "outputs": [
    {
     "data": {
      "text/plain": [
       "100000"
      ]
     },
     "execution_count": 57,
     "metadata": {},
     "output_type": "execute_result"
    }
   ],
   "source": [
    "# 2. by calling the class itself directly\n",
    "Car.base_price"
   ]
  },
  {
   "cell_type": "code",
   "execution_count": 58,
   "metadata": {},
   "outputs": [],
   "source": [
    "# scenario: assume next year the base price of the car is increased by 10%\n",
    "# so in the next year, whenever we create an instance of the car, \n",
    "# the base price should be 10% more than the previous year automatically\n",
    "# for this, we can use the class method @classmethod decorator\n",
    "# here the condition is that I want to add 10% to the base price of the car every year\n",
    "class Car:\n",
    "    base_price = 100000 # initial base price\n",
    "    def __init__(self, window, door, power):\n",
    "        self.windows = window \n",
    "        self.doors = door \n",
    "        self.power = power \n",
    "    def what_base_price(self): # self is with respect to the instance of the class\n",
    "        print(\"The base price is {}\".format(self.base_price))\n",
    "    @classmethod\n",
    "    def revise_base_price(cls, inflation): # cls is used when we define a class method, directly related to the class Car\n",
    "        cls.base_price = cls.base_price + cls.base_price * inflation"
   ]
  },
  {
   "cell_type": "code",
   "execution_count": 59,
   "metadata": {},
   "outputs": [
    {
     "data": {
      "text/plain": [
       "100000"
      ]
     },
     "execution_count": 59,
     "metadata": {},
     "output_type": "execute_result"
    }
   ],
   "source": [
    "car1 = Car(4, 5, 2000)\n",
    "car1.base_price"
   ]
  },
  {
   "cell_type": "code",
   "execution_count": 60,
   "metadata": {},
   "outputs": [
    {
     "data": {
      "text/plain": [
       "110000.0"
      ]
     },
     "execution_count": 60,
     "metadata": {},
     "output_type": "execute_result"
    }
   ],
   "source": [
    "# now let's revise the base price of the car for the next year\n",
    "Car.revise_base_price(0.10)\n",
    "car1.base_price"
   ]
  },
  {
   "cell_type": "code",
   "execution_count": 61,
   "metadata": {},
   "outputs": [
    {
     "data": {
      "text/plain": [
       "110000.0"
      ]
     },
     "execution_count": 61,
     "metadata": {},
     "output_type": "execute_result"
    }
   ],
   "source": [
    "# now whenever I create an instance of the car, the base price will be 10% more than the previous year\n",
    "car2 = Car(4, 4, 1800)\n",
    "car2.base_price"
   ]
  },
  {
   "cell_type": "code",
   "execution_count": 64,
   "metadata": {},
   "outputs": [
    {
     "data": {
      "text/plain": [
       "110000.0"
      ]
     },
     "execution_count": 64,
     "metadata": {},
     "output_type": "execute_result"
    }
   ],
   "source": [
    "# we could also use the method revise_base_price by using the instance\n",
    "car3 = Car(4, 4, 2500)\n",
    "car3.base_price\n",
    "# but in practice, whenever we want to update a class variable, we should use the @classmethod\n",
    "# and it is always done by using the class itself Car.perticular_function_name, not by using the instance\n"
   ]
  },
  {
   "cell_type": "markdown",
   "metadata": {},
   "source": [
    "As the year changes, I will execute the revise_base_price and the whole base price will change."
   ]
  }
 ],
 "metadata": {
  "kernelspec": {
   "display_name": "base",
   "language": "python",
   "name": "python3"
  },
  "language_info": {
   "codemirror_mode": {
    "name": "ipython",
    "version": 3
   },
   "file_extension": ".py",
   "mimetype": "text/x-python",
   "name": "python",
   "nbconvert_exporter": "python",
   "pygments_lexer": "ipython3",
   "version": "3.11.7"
  }
 },
 "nbformat": 4,
 "nbformat_minor": 2
}
