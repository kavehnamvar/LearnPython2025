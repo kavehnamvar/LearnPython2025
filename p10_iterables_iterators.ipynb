{
 "cells": [
  {
   "cell_type": "markdown",
   "metadata": {},
   "source": [
    "# python list iterables vs iterators"
   ]
  },
  {
   "cell_type": "code",
   "execution_count": 1,
   "metadata": {},
   "outputs": [
    {
     "name": "stdout",
     "output_type": "stream",
     "text": [
      "1\n",
      "2\n",
      "3\n",
      "4\n",
      "5\n",
      "6\n",
      "7\n"
     ]
    }
   ],
   "source": [
    "# lists are iterable\n",
    "lst = [1, 2, 3, 4, 5, 6, 7]\n",
    "\n",
    "for i in lst:\n",
    "    print(i)"
   ]
  },
  {
   "cell_type": "code",
   "execution_count": 2,
   "metadata": {},
   "outputs": [
    {
     "data": {
      "text/plain": [
       "<list_iterator at 0x103e84820>"
      ]
     },
     "execution_count": 2,
     "metadata": {},
     "output_type": "execute_result"
    }
   ],
   "source": [
    "# iterate\n",
    "# function iter() converts a list which is iterable to an iterator\n",
    "iter(lst)"
   ]
  },
  {
   "cell_type": "code",
   "execution_count": 3,
   "metadata": {},
   "outputs": [
    {
     "data": {
      "text/plain": [
       "<list_iterator at 0x103e848e0>"
      ]
     },
     "execution_count": 3,
     "metadata": {},
     "output_type": "execute_result"
    }
   ],
   "source": [
    "# the values of a list are saved in a memory location\n",
    "# but in an iterator, the values are not saved in a memory location\n",
    "# when we call next() function, that value initializes in the memory location\n",
    "# when we convert a list to an iterator, the values are not initialized in the memory location\n",
    "# unless we call next() function, the first value initializes in the memory location\n",
    "# when we call next() function again, the second value initializes in the memory location \n",
    "lst1 = iter(lst)\n",
    "lst1"
   ]
  },
  {
   "cell_type": "code",
   "execution_count": 4,
   "metadata": {},
   "outputs": [
    {
     "data": {
      "text/plain": [
       "1"
      ]
     },
     "execution_count": 4,
     "metadata": {},
     "output_type": "execute_result"
    }
   ],
   "source": [
    "# how to retrieve the values from an iterator\n",
    "# we can not see the elements of an iterator because the memory is not initialized\n",
    "# in order to see the elements of an iterator, we have to call next() function \n",
    "next(lst1)\n",
    "# the first value of the list is seen\n"
   ]
  },
  {
   "cell_type": "code",
   "execution_count": 5,
   "metadata": {},
   "outputs": [
    {
     "data": {
      "text/plain": [
       "2"
      ]
     },
     "execution_count": 5,
     "metadata": {},
     "output_type": "execute_result"
    }
   ],
   "source": [
    "# when we use the next() function again, the second value of the list is seen\n",
    "next(lst1)"
   ]
  },
  {
   "cell_type": "code",
   "execution_count": 6,
   "metadata": {},
   "outputs": [
    {
     "name": "stdout",
     "output_type": "stream",
     "text": [
      "3\n",
      "4\n",
      "5\n",
      "6\n",
      "7\n"
     ]
    }
   ],
   "source": [
    "# so in next() function, the values are initialized in the memory location one by one\n",
    "# in list as an iterable, all the values are already initialized in the memory location\n",
    "# whereas in iterator, one element is initialized in the memory location at a time when we call next() function\n",
    "# after calling all the elements of the iterator, we get an error\n",
    "# the objective of iterator is to save the memory\n",
    "# the iterator is used when we have a large large data set\n",
    "# we can use a for loop to iterate the elements of an iterator\n",
    "for i in lst1:\n",
    "    print(i)"
   ]
  },
  {
   "cell_type": "code",
   "execution_count": 7,
   "metadata": {},
   "outputs": [],
   "source": [
    "# in for loop, we don't get error when the elements of the iterator are finished\n",
    "# because the for loop automatically stops when the elements of the iterator are finished\n",
    "# in for loop, the stop iteration error is handled automatically (exception handling)"
   ]
  }
 ],
 "metadata": {
  "kernelspec": {
   "display_name": "base",
   "language": "python",
   "name": "python3"
  },
  "language_info": {
   "codemirror_mode": {
    "name": "ipython",
    "version": 3
   },
   "file_extension": ".py",
   "mimetype": "text/x-python",
   "name": "python",
   "nbconvert_exporter": "python",
   "pygments_lexer": "ipython3",
   "version": "3.11.7"
  }
 },
 "nbformat": 4,
 "nbformat_minor": 2
}
