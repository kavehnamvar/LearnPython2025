{
 "cells": [
  {
   "cell_type": "markdown",
   "metadata": {},
   "source": [
    "# is vs ==\n",
    "Let's start by comparing == & is."
   ]
  },
  {
   "cell_type": "code",
   "execution_count": 1,
   "metadata": {},
   "outputs": [
    {
     "data": {
      "text/plain": [
       "True"
      ]
     },
     "execution_count": 1,
     "metadata": {},
     "output_type": "execute_result"
    }
   ],
   "source": [
    "lst1=['Kaveh','Ali','Reza','Mehdi']\n",
    "lst2=['Kaveh','Ali','Reza','Mehdi']\n",
    "lst1 == lst2"
   ]
  },
  {
   "cell_type": "code",
   "execution_count": 2,
   "metadata": {},
   "outputs": [
    {
     "data": {
      "text/plain": [
       "True"
      ]
     },
     "execution_count": 2,
     "metadata": {},
     "output_type": "execute_result"
    }
   ],
   "source": [
    "lst2 == lst1"
   ]
  },
  {
   "cell_type": "code",
   "execution_count": 3,
   "metadata": {},
   "outputs": [
    {
     "data": {
      "text/plain": [
       "False"
      ]
     },
     "execution_count": 3,
     "metadata": {},
     "output_type": "execute_result"
    }
   ],
   "source": [
    "lst1 is lst2"
   ]
  },
  {
   "cell_type": "markdown",
   "metadata": {},
   "source": [
    "lst1 == lst2 outputs True while lst1 is lst2 outputs False. This is because lst1 & lst2 have different memory locations."
   ]
  },
  {
   "cell_type": "code",
   "execution_count": 4,
   "metadata": {},
   "outputs": [
    {
     "data": {
      "text/plain": [
       "True"
      ]
     },
     "execution_count": 4,
     "metadata": {},
     "output_type": "execute_result"
    }
   ],
   "source": [
    "lst1 = ['Ahmad','Hossein','Mohammad','Saeed']\n",
    "lst2 = lst1\n",
    "lst1 is lst2\n",
    "# here the lst1 and lst2 are the same object in memory"
   ]
  },
  {
   "cell_type": "code",
   "execution_count": 5,
   "metadata": {},
   "outputs": [
    {
     "data": {
      "text/plain": [
       "'Ahmad'"
      ]
     },
     "execution_count": 5,
     "metadata": {},
     "output_type": "execute_result"
    }
   ],
   "source": [
    "lst1[0]"
   ]
  },
  {
   "cell_type": "code",
   "execution_count": 6,
   "metadata": {},
   "outputs": [
    {
     "data": {
      "text/plain": [
       "['Kaveh', 'Hossein', 'Mohammad', 'Saeed']"
      ]
     },
     "execution_count": 6,
     "metadata": {},
     "output_type": "execute_result"
    }
   ],
   "source": [
    "lst1[0] = 'Kaveh'\n",
    "lst2"
   ]
  },
  {
   "cell_type": "markdown",
   "metadata": {},
   "source": [
    "You see the lst2 has also changed.This is called mutability. The object in that memory location changes and both lst1 & lst2 refer to the same memory location."
   ]
  },
  {
   "cell_type": "code",
   "execution_count": 7,
   "metadata": {},
   "outputs": [
    {
     "data": {
      "text/plain": [
       "False"
      ]
     },
     "execution_count": 7,
     "metadata": {},
     "output_type": "execute_result"
    }
   ],
   "source": [
    "lst1 = ['Ahmad','Hossein','Mohammad','Saeed']\n",
    "lst2 = lst1.copy() # deep copy in a different memory location\n",
    "lst1 is lst2\n",
    "# here the lst1 and lst2 are different objects in memory"
   ]
  },
  {
   "cell_type": "markdown",
   "metadata": {},
   "source": [
    "Let's review and compare = , copy() , deepcopy()"
   ]
  },
  {
   "cell_type": "code",
   "execution_count": 8,
   "metadata": {},
   "outputs": [
    {
     "data": {
      "text/plain": [
       "([1, 2, 3, 4], [1, 2, 3, 4])"
      ]
     },
     "execution_count": 8,
     "metadata": {},
     "output_type": "execute_result"
    }
   ],
   "source": [
    "lst1=[1,2,3,4]\n",
    "lst2=lst1\n",
    "lst1, lst2"
   ]
  },
  {
   "cell_type": "code",
   "execution_count": 9,
   "metadata": {},
   "outputs": [
    {
     "data": {
      "text/plain": [
       "([1, 100, 3, 4], [1, 100, 3, 4])"
      ]
     },
     "execution_count": 9,
     "metadata": {},
     "output_type": "execute_result"
    }
   ],
   "source": [
    " lst2[1] = 100\n",
    " lst1, lst2\n",
    "# here the lst1 and lst2 are the same object in memory, \n",
    "# so if we change one of them, the other will be changed too\n",
    "# both of them are pointing to the same memory location"
   ]
  },
  {
   "cell_type": "code",
   "execution_count": 10,
   "metadata": {},
   "outputs": [
    {
     "data": {
      "text/plain": [
       "([1, 2, 3, 4], [1, 100, 3, 4])"
      ]
     },
     "execution_count": 10,
     "metadata": {},
     "output_type": "execute_result"
    }
   ],
   "source": [
    "# shallow copy\n",
    "lst1=[1,2,3,4]\n",
    "lst2=lst1.copy()\n",
    "lst2[1] = 100\n",
    "lst1, lst2"
   ]
  },
  {
   "cell_type": "code",
   "execution_count": 11,
   "metadata": {},
   "outputs": [
    {
     "data": {
      "text/plain": [
       "([[1, 100, 3], [4, 5, 6]], [[1, 100, 3], [4, 5, 6]])"
      ]
     },
     "execution_count": 11,
     "metadata": {},
     "output_type": "execute_result"
    }
   ],
   "source": [
    "# shallow copy in nested lists\n",
    "lst1 = [[1,2,3],[4,5,6]]\n",
    "lst2 = lst1.copy()\n",
    "lst2[0][1] = 100\n",
    "lst1, lst2\n",
    "# 100 is changed in both lists \n",
    "# it is refering to the same object inside the nested list"
   ]
  },
  {
   "cell_type": "code",
   "execution_count": 12,
   "metadata": {},
   "outputs": [
    {
     "data": {
      "text/plain": [
       "([[1, 100, 3], [4, 5, 6]], [[1, 100, 3], 100])"
      ]
     },
     "execution_count": 12,
     "metadata": {},
     "output_type": "execute_result"
    }
   ],
   "source": [
    "lst2[1] = 100\n",
    "lst1, lst2\n",
    "# we changed the second element of the list, so it is not changed in the first list \n",
    "# because it is a shallow copy\n",
    "# it is not changing inside the nested list"
   ]
  },
  {
   "cell_type": "code",
   "execution_count": 13,
   "metadata": {},
   "outputs": [
    {
     "data": {
      "text/plain": [
       "([1, 2, 3, 4], [1, 100, 3, 4])"
      ]
     },
     "execution_count": 13,
     "metadata": {},
     "output_type": "execute_result"
    }
   ],
   "source": [
    "# deep copy\n",
    "import copy\n",
    "lst1=[1,2,3,4]\n",
    "lst2=copy.deepcopy(lst1)\n",
    "lst2[1] = 100\n",
    "lst1, lst2\n",
    "# this scenario works exactly like the shallow copy"
   ]
  },
  {
   "cell_type": "code",
   "execution_count": 14,
   "metadata": {},
   "outputs": [
    {
     "data": {
      "text/plain": [
       "([[1, 2, 3], [4, 5, 6]], [[1, 100, 3], [4, 5, 6]])"
      ]
     },
     "execution_count": 14,
     "metadata": {},
     "output_type": "execute_result"
    }
   ],
   "source": [
    "# deep copy in nested lists\n",
    "lst1 = [[1,2,3],[4,5,6]]\n",
    "lst2 = copy.deepcopy(lst1)\n",
    "lst2[0][1] = 100\n",
    "lst1, lst2\n",
    "# 100 is changed in the second list only"
   ]
  }
 ],
 "metadata": {
  "kernelspec": {
   "display_name": "base",
   "language": "python",
   "name": "python3"
  },
  "language_info": {
   "codemirror_mode": {
    "name": "ipython",
    "version": 3
   },
   "file_extension": ".py",
   "mimetype": "text/x-python",
   "name": "python",
   "nbconvert_exporter": "python",
   "pygments_lexer": "ipython3",
   "version": "3.11.7"
  }
 },
 "nbformat": 4,
 "nbformat_minor": 2
}
