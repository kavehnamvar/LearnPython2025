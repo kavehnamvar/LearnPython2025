{
 "cells": [
  {
   "cell_type": "markdown",
   "metadata": {},
   "source": [
    "# Exception Handling\n",
    "\n",
    "Advanced python\n",
    "\n",
    "Exception provides a right kind of message to a user when an exception occurs."
   ]
  },
  {
   "cell_type": "code",
   "execution_count": 1,
   "metadata": {},
   "outputs": [],
   "source": [
    "# This code runs with no errors\n",
    "a = 10"
   ]
  },
  {
   "cell_type": "code",
   "execution_count": 2,
   "metadata": {},
   "outputs": [
    {
     "data": {
      "text/plain": [
       "\"\\nNameError                                 Traceback (most recent call last)\\nCell In[2], line 3\\n      1 # but this code will raise an error, uncomment and see the error\\n      2 # a = b\\n----> 3 a = b\\n\\nNameError: name 'b' is not defined\\n\""
      ]
     },
     "execution_count": 2,
     "metadata": {},
     "output_type": "execute_result"
    }
   ],
   "source": [
    "# but this code will raise an error, uncomment and see the error\n",
    "# a = b\n",
    "'''\n",
    "NameError                                 Traceback (most recent call last)\n",
    "Cell In[2], line 3\n",
    "      1 # but this code will raise an error, uncomment and see the error\n",
    "      2 # a = b\n",
    "----> 3 a = b\n",
    "\n",
    "NameError: name 'b' is not defined\n",
    "'''\n",
    "# This NameError is raised because the variable b is not defined"
   ]
  },
  {
   "cell_type": "code",
   "execution_count": 3,
   "metadata": {},
   "outputs": [
    {
     "name": "stdout",
     "output_type": "stream",
     "text": [
      "some problem may have occured\n"
     ]
    }
   ],
   "source": [
    "# one way to avoid this error is to use try and except block\n",
    "# in try we try to write the complete code when the error might happen\n",
    "# and in except we write the code to handle the error\n",
    "\n",
    "try:\n",
    "    # code block where exception can occur\n",
    "    a = b\n",
    "except:\n",
    "    # code block to handle the exception\n",
    "    print(\"some problem may have occured\")\n",
    "\n",
    "# the error gives our custom message"
   ]
  },
  {
   "cell_type": "code",
   "execution_count": 4,
   "metadata": {},
   "outputs": [
    {
     "name": "stdout",
     "output_type": "stream",
     "text": [
      "name 'b' is not defined\n"
     ]
    }
   ],
   "source": [
    "# we can do this by calling the Exception class\n",
    "try:\n",
    "    a = b\n",
    "except Exception as ex:\n",
    "    print(ex)\n",
    "# we will get the same message as initial error\n",
    "# but the code will not stop\n",
    "# the NameError exception is derived from the Exception class"
   ]
  },
  {
   "cell_type": "code",
   "execution_count": 5,
   "metadata": {},
   "outputs": [
    {
     "name": "stdout",
     "output_type": "stream",
     "text": [
      "The user has not defined the variable.\n"
     ]
    }
   ],
   "source": [
    "try:\n",
    "    # code block where exception can occur\n",
    "    a = b\n",
    "except NameError as ex1:\n",
    "    print(\"The user has not defined the variable.\")\n",
    "\n",
    "except Exception as ex: # this except Exception should be always at the end\n",
    "    print(ex)           # because it will catch all other exceptions"
   ]
  },
  {
   "cell_type": "code",
   "execution_count": 6,
   "metadata": {},
   "outputs": [
    {
     "name": "stdout",
     "output_type": "stream",
     "text": [
      "unsupported operand type(s) for +: 'int' and 'str'\n"
     ]
    }
   ],
   "source": [
    "try:\n",
    "    # code block where exception can occur\n",
    "    a = 1\n",
    "    b = \"s\"\n",
    "    c= a+b # this will raise an error, integer and string cannot be added\n",
    "except NameError as ex1:\n",
    "    print(\"The user has not defined the variable.\")\n",
    "except Exception as ex:\n",
    "    print(ex)\n"
   ]
  },
  {
   "cell_type": "code",
   "execution_count": 7,
   "metadata": {},
   "outputs": [
    {
     "data": {
      "text/plain": [
       "'\\nTypeError                                 Traceback (most recent call last)\\nCell In[9], line 1\\n----> 1 \"s\"+1\\n\\nTypeError: can only concatenate str (not \"int\") to str\\n'"
      ]
     },
     "execution_count": 7,
     "metadata": {},
     "output_type": "execute_result"
    }
   ],
   "source": [
    "# \"s\"+1\n",
    "# running the above code will raise TypeError\n",
    "'''\n",
    "TypeError                                 Traceback (most recent call last)\n",
    "Cell In[9], line 1\n",
    "----> 1 \"s\"+1\n",
    "\n",
    "TypeError: can only concatenate str (not \"int\") to str\n",
    "'''"
   ]
  },
  {
   "cell_type": "code",
   "execution_count": 8,
   "metadata": {},
   "outputs": [
    {
     "name": "stdout",
     "output_type": "stream",
     "text": [
      "Try to make the data types similar in addition.\n"
     ]
    }
   ],
   "source": [
    "# to handle this error we can use TypeError\n",
    "try:\n",
    "    # code block where exception can occur\n",
    "    a = 1\n",
    "    b = \"s\"\n",
    "    c= a+b # this will raise an error, integer and string cannot be added\n",
    "except NameError:\n",
    "    print(\"The user has not defined the variable.\")\n",
    "except TypeError:\n",
    "    print(\"Try to make the data types similar in addition.\")\n",
    "except Exception as ex:\n",
    "    print(ex)"
   ]
  },
  {
   "cell_type": "code",
   "execution_count": 9,
   "metadata": {},
   "outputs": [
    {
     "name": "stdout",
     "output_type": "stream",
     "text": [
      "5.0\n",
      "80\n",
      "24\n"
     ]
    }
   ],
   "source": [
    "# another example\n",
    "try:\n",
    "    # code block where exception can occur\n",
    "    a = int(input(\"Enter a number: \"))\n",
    "    b = int(input(\"Enter another number: \"))\n",
    "    c = a/b\n",
    "    d = a*b\n",
    "    e = a+b \n",
    "    print(c)\n",
    "    print(d)\n",
    "    print(e)\n",
    "except NameError:\n",
    "    print(\"The user has not defined the variable.\")\n",
    "except TypeError:\n",
    "    print(\"Try to make the data types similar in addition.\")\n",
    "except Exception as ex:\n",
    "    print(ex)"
   ]
  },
  {
   "cell_type": "code",
   "execution_count": 10,
   "metadata": {},
   "outputs": [
    {
     "name": "stdout",
     "output_type": "stream",
     "text": [
      "5.0\n",
      "80\n",
      "24\n"
     ]
    }
   ],
   "source": [
    "# what if we have 0 in the denominator\n",
    "# the error would be ZeroDivisionError\n",
    "try:\n",
    "    # code block where exception can occur\n",
    "    a = int(input(\"Enter a number: \"))\n",
    "    b = int(input(\"Enter another number: \"))\n",
    "    c = a/b\n",
    "    d = a*b\n",
    "    e = a+b \n",
    "    print(c)\n",
    "    print(d)\n",
    "    print(e)\n",
    "except NameError:\n",
    "    print(\"The user has not defined the variable.\")\n",
    "except TypeError:\n",
    "    print(\"Try to make the data types similar in addition.\")\n",
    "except ZeroDivisionError:\n",
    "    print(\"Please provide a number greater than 0.\")\n",
    "except Exception as ex:\n",
    "    print(ex)"
   ]
  },
  {
   "cell_type": "markdown",
   "metadata": {},
   "source": [
    "## else block"
   ]
  },
  {
   "cell_type": "code",
   "execution_count": 11,
   "metadata": {},
   "outputs": [
    {
     "name": "stdout",
     "output_type": "stream",
     "text": [
      "5.0\n",
      "80\n",
      "24\n",
      "The code is error free.\n"
     ]
    }
   ],
   "source": [
    "# what if we have 0 in the denominator\n",
    "# the error would be ZeroDivisionError\n",
    "try:\n",
    "    # code block where exception can occur\n",
    "    a = int(input(\"Enter a number: \"))\n",
    "    b = int(input(\"Enter another number: \"))\n",
    "    c = a/b\n",
    "    d = a*b\n",
    "    e = a+b \n",
    "\n",
    "except NameError:\n",
    "    print(\"The user has not defined the variable.\")\n",
    "except TypeError:\n",
    "    print(\"Try to make the data types similar in addition.\")\n",
    "except ZeroDivisionError:\n",
    "    print(\"Please provide a number greater than 0.\")\n",
    "except Exception as ex:\n",
    "    print(ex)\n",
    "else:\n",
    "    print(c)\n",
    "    print(d)\n",
    "    print(e)\n",
    "    print(\"The code is error free.\")\n",
    "# if the excpetion does not occur then the else block will run"
   ]
  },
  {
   "cell_type": "code",
   "execution_count": 12,
   "metadata": {},
   "outputs": [
    {
     "name": "stdout",
     "output_type": "stream",
     "text": [
      "5.0\n",
      "The code is error free.\n"
     ]
    }
   ],
   "source": [
    "# try except finally\n",
    "\n",
    "try:\n",
    "    # code block where exception can occur\n",
    "    a = int(input(\"Enter a number: \"))\n",
    "    b = int(input(\"Enter another number: \"))\n",
    "    c = a/b\n",
    "    d = a*b\n",
    "    e = a+b \n",
    "\n",
    "except NameError:\n",
    "    print(\"The user has not defined the variable.\")\n",
    "except TypeError:\n",
    "    print(\"Try to make the data types similar in addition.\")\n",
    "except ZeroDivisionError:\n",
    "    print(\"Please provide a number greater than 0.\")\n",
    "except Exception as ex:\n",
    "    print(ex)\n",
    "else:\n",
    "    print(c)\n",
    "    \n",
    "finally:\n",
    "    print(\"The code is error free.\")\n",
    "\n",
    "# the finally block will always run no matter what"
   ]
  },
  {
   "cell_type": "markdown",
   "metadata": {},
   "source": [
    "**The use case of finally**\n",
    "Between try-except block and else, one will be executed. Let's assume we have connected to a remote database or a cloud machine, an exception occurs. else will not get executed. But we need to disconnect from the database or the cloud service. \"finally\" will be the solution in this case."
   ]
  },
  {
   "cell_type": "markdown",
   "metadata": {},
   "source": [
    "## Custome Exception"
   ]
  },
  {
   "cell_type": "code",
   "execution_count": 13,
   "metadata": {},
   "outputs": [
    {
     "name": "stdout",
     "output_type": "stream",
     "text": [
      "The age is not between 20 & 30.\n"
     ]
    }
   ],
   "source": [
    "class Error(Exception):\n",
    "    pass\n",
    "# this is a custom exception class and we inherit the from Exception class\n",
    "# we want to raise a custom exception with a custom message\n",
    "\n",
    "# suppose we want to raise an exception when the age of an applicant \n",
    "# in not between 20 & 30. \n",
    "\n",
    "class AgeException(Error):\n",
    "    pass\n",
    "\n",
    "yob = int(input(\"Enter your year of birth: \"))\n",
    "age = 2025 - yob\n",
    "try:\n",
    "    if age >20 and age <=30: #this age range is fine, no need to handle an exception\n",
    "        print(\"The age is valid. You can apply for the job.\")\n",
    "    else: # this age range is not fine, we need to raise & handle an exception\n",
    "        raise AgeException\n",
    "except AgeException:\n",
    "    print(\"The age is not between 20 & 30.\")"
   ]
  }
 ],
 "metadata": {
  "kernelspec": {
   "display_name": "base",
   "language": "python",
   "name": "python3"
  },
  "language_info": {
   "codemirror_mode": {
    "name": "ipython",
    "version": 3
   },
   "file_extension": ".py",
   "mimetype": "text/x-python",
   "name": "python",
   "nbconvert_exporter": "python",
   "pygments_lexer": "ipython3",
   "version": "3.11.7"
  }
 },
 "nbformat": 4,
 "nbformat_minor": 2
}
